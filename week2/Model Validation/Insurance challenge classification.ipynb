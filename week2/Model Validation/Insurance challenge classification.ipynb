{
 "cells": [
  {
   "cell_type": "code",
   "execution_count": 28,
   "metadata": {},
   "outputs": [],
   "source": [
    "import pandas as pd\n",
    "import numpy as np\n",
    "from pandas import DataFrame\n",
    "import catboost as cb\n",
    "from sklearn.metrics import mean_squared_log_error, mean_squared_error\n",
    "from sklearn.model_selection import train_test_split, KFold\n",
    "from sklearn.preprocessing import MinMaxScaler\n",
    "import xlsxwriter \n",
    "from sklearn import metrics\n",
    "from sklearn.metrics import log_loss"
   ]
  },
  {
   "cell_type": "code",
   "execution_count": 12,
   "metadata": {},
   "outputs": [],
   "source": [
    "train = pd.read_csv(\"Train.csv\")\n",
    "train_data=train[train.columns[0:16]]\n",
    "train_label=train['labels']"
   ]
  },
  {
   "cell_type": "code",
   "execution_count": 13,
   "metadata": {},
   "outputs": [
    {
     "data": {
      "text/html": [
       "<div>\n",
       "<style scoped>\n",
       "    .dataframe tbody tr th:only-of-type {\n",
       "        vertical-align: middle;\n",
       "    }\n",
       "\n",
       "    .dataframe tbody tr th {\n",
       "        vertical-align: top;\n",
       "    }\n",
       "\n",
       "    .dataframe thead th {\n",
       "        text-align: right;\n",
       "    }\n",
       "</style>\n",
       "<table border=\"1\" class=\"dataframe\">\n",
       "  <thead>\n",
       "    <tr style=\"text-align: right;\">\n",
       "      <th></th>\n",
       "      <th>feature_0</th>\n",
       "      <th>feature_1</th>\n",
       "      <th>feature_2</th>\n",
       "      <th>feature_3</th>\n",
       "      <th>feature_4</th>\n",
       "      <th>feature_5</th>\n",
       "      <th>feature_6</th>\n",
       "      <th>feature_7</th>\n",
       "      <th>feature_8</th>\n",
       "      <th>feature_9</th>\n",
       "      <th>feature_10</th>\n",
       "      <th>feature_11</th>\n",
       "      <th>feature_12</th>\n",
       "      <th>feature_13</th>\n",
       "      <th>feature_14</th>\n",
       "      <th>feature_15</th>\n",
       "    </tr>\n",
       "  </thead>\n",
       "  <tbody>\n",
       "    <tr>\n",
       "      <th>count</th>\n",
       "      <td>33908.000000</td>\n",
       "      <td>33908.000000</td>\n",
       "      <td>33908.000000</td>\n",
       "      <td>33908.000000</td>\n",
       "      <td>33908.000000</td>\n",
       "      <td>33908.000000</td>\n",
       "      <td>33908.000000</td>\n",
       "      <td>33908.000000</td>\n",
       "      <td>33908.000000</td>\n",
       "      <td>33908.000000</td>\n",
       "      <td>33908.000000</td>\n",
       "      <td>33908.000000</td>\n",
       "      <td>33908.000000</td>\n",
       "      <td>33908.000000</td>\n",
       "      <td>33908.000000</td>\n",
       "      <td>33908.000000</td>\n",
       "    </tr>\n",
       "    <tr>\n",
       "      <th>mean</th>\n",
       "      <td>-0.004158</td>\n",
       "      <td>0.002584</td>\n",
       "      <td>-0.000213</td>\n",
       "      <td>-0.000053</td>\n",
       "      <td>-0.000298</td>\n",
       "      <td>-0.004652</td>\n",
       "      <td>-0.007498</td>\n",
       "      <td>4.336381</td>\n",
       "      <td>1.171051</td>\n",
       "      <td>1.225345</td>\n",
       "      <td>0.018137</td>\n",
       "      <td>0.555503</td>\n",
       "      <td>0.159667</td>\n",
       "      <td>0.639407</td>\n",
       "      <td>5.520497</td>\n",
       "      <td>2.562375</td>\n",
       "    </tr>\n",
       "    <tr>\n",
       "      <th>std</th>\n",
       "      <td>0.999776</td>\n",
       "      <td>1.014268</td>\n",
       "      <td>1.000872</td>\n",
       "      <td>1.002512</td>\n",
       "      <td>1.003724</td>\n",
       "      <td>0.993984</td>\n",
       "      <td>0.802696</td>\n",
       "      <td>3.273376</td>\n",
       "      <td>0.606730</td>\n",
       "      <td>0.749104</td>\n",
       "      <td>0.133450</td>\n",
       "      <td>0.496917</td>\n",
       "      <td>0.366303</td>\n",
       "      <td>0.897627</td>\n",
       "      <td>3.003241</td>\n",
       "      <td>0.987148</td>\n",
       "    </tr>\n",
       "    <tr>\n",
       "      <th>min</th>\n",
       "      <td>-2.159994</td>\n",
       "      <td>-3.081149</td>\n",
       "      <td>-1.779108</td>\n",
       "      <td>-1.002478</td>\n",
       "      <td>-0.569351</td>\n",
       "      <td>-0.411453</td>\n",
       "      <td>-0.251940</td>\n",
       "      <td>0.000000</td>\n",
       "      <td>0.000000</td>\n",
       "      <td>0.000000</td>\n",
       "      <td>0.000000</td>\n",
       "      <td>0.000000</td>\n",
       "      <td>0.000000</td>\n",
       "      <td>0.000000</td>\n",
       "      <td>0.000000</td>\n",
       "      <td>0.000000</td>\n",
       "    </tr>\n",
       "    <tr>\n",
       "      <th>25%</th>\n",
       "      <td>-0.747384</td>\n",
       "      <td>-0.422787</td>\n",
       "      <td>-0.938003</td>\n",
       "      <td>-0.602517</td>\n",
       "      <td>-0.569351</td>\n",
       "      <td>-0.411453</td>\n",
       "      <td>-0.251940</td>\n",
       "      <td>1.000000</td>\n",
       "      <td>1.000000</td>\n",
       "      <td>1.000000</td>\n",
       "      <td>0.000000</td>\n",
       "      <td>0.000000</td>\n",
       "      <td>0.000000</td>\n",
       "      <td>0.000000</td>\n",
       "      <td>3.000000</td>\n",
       "      <td>3.000000</td>\n",
       "    </tr>\n",
       "    <tr>\n",
       "      <th>50%</th>\n",
       "      <td>-0.182341</td>\n",
       "      <td>-0.297324</td>\n",
       "      <td>0.023260</td>\n",
       "      <td>-0.303517</td>\n",
       "      <td>-0.246560</td>\n",
       "      <td>-0.411453</td>\n",
       "      <td>-0.251940</td>\n",
       "      <td>4.000000</td>\n",
       "      <td>1.000000</td>\n",
       "      <td>1.000000</td>\n",
       "      <td>0.000000</td>\n",
       "      <td>1.000000</td>\n",
       "      <td>0.000000</td>\n",
       "      <td>0.000000</td>\n",
       "      <td>6.000000</td>\n",
       "      <td>3.000000</td>\n",
       "    </tr>\n",
       "    <tr>\n",
       "      <th>75%</th>\n",
       "      <td>0.665225</td>\n",
       "      <td>0.022901</td>\n",
       "      <td>0.624050</td>\n",
       "      <td>0.236237</td>\n",
       "      <td>0.076230</td>\n",
       "      <td>-0.411453</td>\n",
       "      <td>-0.251940</td>\n",
       "      <td>7.000000</td>\n",
       "      <td>2.000000</td>\n",
       "      <td>2.000000</td>\n",
       "      <td>0.000000</td>\n",
       "      <td>1.000000</td>\n",
       "      <td>0.000000</td>\n",
       "      <td>2.000000</td>\n",
       "      <td>8.000000</td>\n",
       "      <td>3.000000</td>\n",
       "    </tr>\n",
       "    <tr>\n",
       "      <th>max</th>\n",
       "      <td>5.091402</td>\n",
       "      <td>33.094776</td>\n",
       "      <td>1.825628</td>\n",
       "      <td>18.094700</td>\n",
       "      <td>19.443647</td>\n",
       "      <td>8.127648</td>\n",
       "      <td>23.625644</td>\n",
       "      <td>11.000000</td>\n",
       "      <td>2.000000</td>\n",
       "      <td>3.000000</td>\n",
       "      <td>1.000000</td>\n",
       "      <td>1.000000</td>\n",
       "      <td>1.000000</td>\n",
       "      <td>2.000000</td>\n",
       "      <td>11.000000</td>\n",
       "      <td>3.000000</td>\n",
       "    </tr>\n",
       "  </tbody>\n",
       "</table>\n",
       "</div>"
      ],
      "text/plain": [
       "          feature_0     feature_1     feature_2     feature_3     feature_4  \\\n",
       "count  33908.000000  33908.000000  33908.000000  33908.000000  33908.000000   \n",
       "mean      -0.004158      0.002584     -0.000213     -0.000053     -0.000298   \n",
       "std        0.999776      1.014268      1.000872      1.002512      1.003724   \n",
       "min       -2.159994     -3.081149     -1.779108     -1.002478     -0.569351   \n",
       "25%       -0.747384     -0.422787     -0.938003     -0.602517     -0.569351   \n",
       "50%       -0.182341     -0.297324      0.023260     -0.303517     -0.246560   \n",
       "75%        0.665225      0.022901      0.624050      0.236237      0.076230   \n",
       "max        5.091402     33.094776      1.825628     18.094700     19.443647   \n",
       "\n",
       "          feature_5     feature_6     feature_7     feature_8     feature_9  \\\n",
       "count  33908.000000  33908.000000  33908.000000  33908.000000  33908.000000   \n",
       "mean      -0.004652     -0.007498      4.336381      1.171051      1.225345   \n",
       "std        0.993984      0.802696      3.273376      0.606730      0.749104   \n",
       "min       -0.411453     -0.251940      0.000000      0.000000      0.000000   \n",
       "25%       -0.411453     -0.251940      1.000000      1.000000      1.000000   \n",
       "50%       -0.411453     -0.251940      4.000000      1.000000      1.000000   \n",
       "75%       -0.411453     -0.251940      7.000000      2.000000      2.000000   \n",
       "max        8.127648     23.625644     11.000000      2.000000      3.000000   \n",
       "\n",
       "         feature_10    feature_11    feature_12    feature_13    feature_14  \\\n",
       "count  33908.000000  33908.000000  33908.000000  33908.000000  33908.000000   \n",
       "mean       0.018137      0.555503      0.159667      0.639407      5.520497   \n",
       "std        0.133450      0.496917      0.366303      0.897627      3.003241   \n",
       "min        0.000000      0.000000      0.000000      0.000000      0.000000   \n",
       "25%        0.000000      0.000000      0.000000      0.000000      3.000000   \n",
       "50%        0.000000      1.000000      0.000000      0.000000      6.000000   \n",
       "75%        0.000000      1.000000      0.000000      2.000000      8.000000   \n",
       "max        1.000000      1.000000      1.000000      2.000000     11.000000   \n",
       "\n",
       "         feature_15  \n",
       "count  33908.000000  \n",
       "mean       2.562375  \n",
       "std        0.987148  \n",
       "min        0.000000  \n",
       "25%        3.000000  \n",
       "50%        3.000000  \n",
       "75%        3.000000  \n",
       "max        3.000000  "
      ]
     },
     "execution_count": 13,
     "metadata": {},
     "output_type": "execute_result"
    }
   ],
   "source": [
    "train_data.describe()"
   ]
  },
  {
   "cell_type": "code",
   "execution_count": 14,
   "metadata": {},
   "outputs": [
    {
     "data": {
      "text/plain": [
       "0    29941\n",
       "1     3967\n",
       "Name: labels, dtype: int64"
      ]
     },
     "execution_count": 14,
     "metadata": {},
     "output_type": "execute_result"
    }
   ],
   "source": [
    "train.labels.value_counts()"
   ]
  },
  {
   "cell_type": "code",
   "execution_count": 15,
   "metadata": {
    "scrolled": true
   },
   "outputs": [
    {
     "name": "stdout",
     "output_type": "stream",
     "text": [
      "0\n"
     ]
    }
   ],
   "source": [
    "print(train.isnull().sum().sum())"
   ]
  },
  {
   "cell_type": "code",
   "execution_count": 16,
   "metadata": {},
   "outputs": [],
   "source": [
    "cat_features=[7,8,9,10,11,12,13,14,15]"
   ]
  },
  {
   "cell_type": "code",
   "execution_count": 17,
   "metadata": {},
   "outputs": [],
   "source": [
    "cat_rg1 = cb.CatBoostClassifier(iterations=100,\n",
    "                           learning_rate=0.5,\n",
    "                           depth=12,\n",
    "                           loss_function='MultiClass')"
   ]
  },
  {
   "cell_type": "code",
   "execution_count": 18,
   "metadata": {},
   "outputs": [],
   "source": [
    "x_train, x_test, y_train, y_test = train_test_split(train_data, train_label, test_size=0.2, random_state=42)"
   ]
  },
  {
   "cell_type": "code",
   "execution_count": 20,
   "metadata": {},
   "outputs": [
    {
     "name": "stdout",
     "output_type": "stream",
     "text": [
      "0:\tlearn: 0.4346314\ttotal: 289ms\tremaining: 28.6s\n",
      "1:\tlearn: 0.3376830\ttotal: 599ms\tremaining: 29.3s\n",
      "2:\tlearn: 0.2910964\ttotal: 849ms\tremaining: 27.5s\n",
      "3:\tlearn: 0.2610110\ttotal: 1.11s\tremaining: 26.7s\n",
      "4:\tlearn: 0.2429277\ttotal: 1.38s\tremaining: 26.3s\n",
      "5:\tlearn: 0.2263988\ttotal: 1.71s\tremaining: 26.7s\n",
      "6:\tlearn: 0.2140192\ttotal: 2.04s\tremaining: 27s\n",
      "7:\tlearn: 0.2050577\ttotal: 2.31s\tremaining: 26.5s\n",
      "8:\tlearn: 0.1929957\ttotal: 2.62s\tremaining: 26.5s\n",
      "9:\tlearn: 0.1854042\ttotal: 2.91s\tremaining: 26.2s\n",
      "10:\tlearn: 0.1802861\ttotal: 3.18s\tremaining: 25.7s\n",
      "11:\tlearn: 0.1757918\ttotal: 3.45s\tremaining: 25.3s\n",
      "12:\tlearn: 0.1720534\ttotal: 3.72s\tremaining: 24.9s\n",
      "13:\tlearn: 0.1673908\ttotal: 4s\tremaining: 24.6s\n",
      "14:\tlearn: 0.1637598\ttotal: 4.28s\tremaining: 24.2s\n",
      "15:\tlearn: 0.1601399\ttotal: 4.53s\tremaining: 23.8s\n",
      "16:\tlearn: 0.1568662\ttotal: 4.8s\tremaining: 23.4s\n",
      "17:\tlearn: 0.1541789\ttotal: 5.09s\tremaining: 23.2s\n",
      "18:\tlearn: 0.1510297\ttotal: 5.36s\tremaining: 22.9s\n",
      "19:\tlearn: 0.1468860\ttotal: 5.65s\tremaining: 22.6s\n",
      "20:\tlearn: 0.1436465\ttotal: 5.92s\tremaining: 22.3s\n",
      "21:\tlearn: 0.1423313\ttotal: 6.18s\tremaining: 21.9s\n",
      "22:\tlearn: 0.1394246\ttotal: 6.44s\tremaining: 21.6s\n",
      "23:\tlearn: 0.1374596\ttotal: 6.76s\tremaining: 21.4s\n",
      "24:\tlearn: 0.1366577\ttotal: 7.05s\tremaining: 21.1s\n",
      "25:\tlearn: 0.1334654\ttotal: 7.35s\tremaining: 20.9s\n",
      "26:\tlearn: 0.1306226\ttotal: 7.65s\tremaining: 20.7s\n",
      "27:\tlearn: 0.1297164\ttotal: 7.89s\tremaining: 20.3s\n",
      "28:\tlearn: 0.1281709\ttotal: 8.14s\tremaining: 19.9s\n",
      "29:\tlearn: 0.1270344\ttotal: 8.45s\tremaining: 19.7s\n",
      "30:\tlearn: 0.1244512\ttotal: 8.74s\tremaining: 19.5s\n",
      "31:\tlearn: 0.1225688\ttotal: 9.04s\tremaining: 19.2s\n",
      "32:\tlearn: 0.1200136\ttotal: 9.36s\tremaining: 19s\n",
      "33:\tlearn: 0.1179420\ttotal: 9.7s\tremaining: 18.8s\n",
      "34:\tlearn: 0.1150041\ttotal: 10.1s\tremaining: 18.7s\n",
      "35:\tlearn: 0.1125961\ttotal: 10.4s\tremaining: 18.5s\n",
      "36:\tlearn: 0.1103131\ttotal: 10.7s\tremaining: 18.2s\n",
      "37:\tlearn: 0.1091821\ttotal: 11.1s\tremaining: 18.1s\n",
      "38:\tlearn: 0.1069511\ttotal: 11.3s\tremaining: 17.7s\n",
      "39:\tlearn: 0.1056116\ttotal: 11.7s\tremaining: 17.5s\n",
      "40:\tlearn: 0.1032935\ttotal: 11.9s\tremaining: 17.2s\n",
      "41:\tlearn: 0.1017000\ttotal: 12.2s\tremaining: 16.9s\n",
      "42:\tlearn: 0.1001197\ttotal: 12.5s\tremaining: 16.6s\n",
      "43:\tlearn: 0.0974996\ttotal: 12.8s\tremaining: 16.2s\n",
      "44:\tlearn: 0.0961731\ttotal: 13s\tremaining: 15.9s\n",
      "45:\tlearn: 0.0950639\ttotal: 13.3s\tremaining: 15.6s\n",
      "46:\tlearn: 0.0930797\ttotal: 13.6s\tremaining: 15.3s\n",
      "47:\tlearn: 0.0917847\ttotal: 13.8s\tremaining: 15s\n",
      "48:\tlearn: 0.0903806\ttotal: 14.1s\tremaining: 14.7s\n",
      "49:\tlearn: 0.0881895\ttotal: 14.4s\tremaining: 14.4s\n",
      "50:\tlearn: 0.0867842\ttotal: 14.7s\tremaining: 14.1s\n",
      "51:\tlearn: 0.0855184\ttotal: 15s\tremaining: 13.9s\n",
      "52:\tlearn: 0.0844269\ttotal: 15.4s\tremaining: 13.6s\n",
      "53:\tlearn: 0.0830358\ttotal: 15.7s\tremaining: 13.4s\n",
      "54:\tlearn: 0.0821323\ttotal: 16s\tremaining: 13.1s\n",
      "55:\tlearn: 0.0814824\ttotal: 16.3s\tremaining: 12.8s\n",
      "56:\tlearn: 0.0807280\ttotal: 16.7s\tremaining: 12.6s\n",
      "57:\tlearn: 0.0797011\ttotal: 17s\tremaining: 12.3s\n",
      "58:\tlearn: 0.0783598\ttotal: 17.3s\tremaining: 12s\n",
      "59:\tlearn: 0.0775880\ttotal: 17.7s\tremaining: 11.8s\n",
      "60:\tlearn: 0.0768202\ttotal: 18s\tremaining: 11.5s\n",
      "61:\tlearn: 0.0753541\ttotal: 18.3s\tremaining: 11.2s\n",
      "62:\tlearn: 0.0744270\ttotal: 18.6s\tremaining: 10.9s\n",
      "63:\tlearn: 0.0735288\ttotal: 18.9s\tremaining: 10.6s\n",
      "64:\tlearn: 0.0729575\ttotal: 19.1s\tremaining: 10.3s\n",
      "65:\tlearn: 0.0715467\ttotal: 19.4s\tremaining: 10s\n",
      "66:\tlearn: 0.0705898\ttotal: 19.7s\tremaining: 9.7s\n",
      "67:\tlearn: 0.0690672\ttotal: 20s\tremaining: 9.4s\n",
      "68:\tlearn: 0.0683477\ttotal: 20.2s\tremaining: 9.09s\n",
      "69:\tlearn: 0.0669949\ttotal: 20.5s\tremaining: 8.79s\n",
      "70:\tlearn: 0.0660877\ttotal: 20.8s\tremaining: 8.47s\n",
      "71:\tlearn: 0.0651118\ttotal: 21.1s\tremaining: 8.19s\n",
      "72:\tlearn: 0.0644704\ttotal: 21.3s\tremaining: 7.88s\n",
      "73:\tlearn: 0.0634589\ttotal: 21.7s\tremaining: 7.61s\n",
      "74:\tlearn: 0.0624529\ttotal: 22s\tremaining: 7.34s\n",
      "75:\tlearn: 0.0619319\ttotal: 22.4s\tremaining: 7.07s\n",
      "76:\tlearn: 0.0613182\ttotal: 22.7s\tremaining: 6.78s\n",
      "77:\tlearn: 0.0601925\ttotal: 23s\tremaining: 6.5s\n",
      "78:\tlearn: 0.0588805\ttotal: 23.4s\tremaining: 6.21s\n",
      "79:\tlearn: 0.0583229\ttotal: 23.7s\tremaining: 5.93s\n",
      "80:\tlearn: 0.0569810\ttotal: 24s\tremaining: 5.64s\n",
      "81:\tlearn: 0.0563472\ttotal: 24.5s\tremaining: 5.38s\n",
      "82:\tlearn: 0.0556622\ttotal: 24.8s\tremaining: 5.08s\n",
      "83:\tlearn: 0.0547607\ttotal: 25.1s\tremaining: 4.78s\n",
      "84:\tlearn: 0.0541653\ttotal: 25.4s\tremaining: 4.47s\n",
      "85:\tlearn: 0.0534562\ttotal: 25.6s\tremaining: 4.17s\n",
      "86:\tlearn: 0.0526399\ttotal: 25.9s\tremaining: 3.87s\n",
      "87:\tlearn: 0.0519632\ttotal: 26.2s\tremaining: 3.57s\n",
      "88:\tlearn: 0.0513587\ttotal: 26.5s\tremaining: 3.27s\n",
      "89:\tlearn: 0.0508984\ttotal: 26.7s\tremaining: 2.97s\n",
      "90:\tlearn: 0.0505035\ttotal: 27s\tremaining: 2.67s\n",
      "91:\tlearn: 0.0498177\ttotal: 27.3s\tremaining: 2.37s\n",
      "92:\tlearn: 0.0494821\ttotal: 27.7s\tremaining: 2.08s\n",
      "93:\tlearn: 0.0487266\ttotal: 28s\tremaining: 1.78s\n",
      "94:\tlearn: 0.0482929\ttotal: 28.3s\tremaining: 1.49s\n",
      "95:\tlearn: 0.0479216\ttotal: 28.6s\tremaining: 1.19s\n",
      "96:\tlearn: 0.0475433\ttotal: 29s\tremaining: 896ms\n",
      "97:\tlearn: 0.0467887\ttotal: 29.3s\tremaining: 598ms\n",
      "98:\tlearn: 0.0463880\ttotal: 29.6s\tremaining: 299ms\n",
      "99:\tlearn: 0.0454995\ttotal: 30s\tremaining: 0us\n"
     ]
    },
    {
     "data": {
      "text/plain": [
       "<catboost.core.CatBoostClassifier at 0x1f4ba4e6a90>"
      ]
     },
     "execution_count": 20,
     "metadata": {},
     "output_type": "execute_result"
    }
   ],
   "source": [
    "cat_rg1.fit(x_train,y_train, cat_features)#"
   ]
  },
  {
   "cell_type": "code",
   "execution_count": 21,
   "metadata": {},
   "outputs": [
    {
     "name": "stdout",
     "output_type": "stream",
     "text": [
      "(6782, 1)\n"
     ]
    }
   ],
   "source": [
    "pred = cat_rg1.predict(x_test)"
   ]
  },
  {
   "cell_type": "code",
   "execution_count": 26,
   "metadata": {},
   "outputs": [
    {
     "name": "stdout",
     "output_type": "stream",
     "text": [
      "[[5770  215]\n",
      " [ 435  362]]\n"
     ]
    }
   ],
   "source": [
    "#confusion matrix\n",
    "print(metrics.confusion_matrix(y_test, pred))"
   ]
  },
  {
   "cell_type": "code",
   "execution_count": 27,
   "metadata": {},
   "outputs": [
    {
     "name": "stdout",
     "output_type": "stream",
     "text": [
      "              precision    recall  f1-score   support\n",
      "\n",
      "           0       0.93      0.96      0.95      5985\n",
      "           1       0.63      0.45      0.53       797\n",
      "\n",
      "    accuracy                           0.90      6782\n",
      "   macro avg       0.78      0.71      0.74      6782\n",
      "weighted avg       0.89      0.90      0.90      6782\n",
      "\n"
     ]
    }
   ],
   "source": [
    "#precion recall f1 score\n",
    "print(metrics.classification_report(y_test, pred))"
   ]
  },
  {
   "cell_type": "code",
   "execution_count": 29,
   "metadata": {},
   "outputs": [
    {
     "name": "stdout",
     "output_type": "stream",
     "text": [
      "3.3102884945649427\n"
     ]
    }
   ],
   "source": [
    "#log loss\n",
    "print(log_loss(y_test, pred))"
   ]
  },
  {
   "cell_type": "code",
   "execution_count": null,
   "metadata": {},
   "outputs": [],
   "source": []
  }
 ],
 "metadata": {
  "kernelspec": {
   "display_name": "Python 3",
   "language": "python",
   "name": "python3"
  },
  "language_info": {
   "codemirror_mode": {
    "name": "ipython",
    "version": 3
   },
   "file_extension": ".py",
   "mimetype": "text/x-python",
   "name": "python",
   "nbconvert_exporter": "python",
   "pygments_lexer": "ipython3",
   "version": "3.6.7"
  }
 },
 "nbformat": 4,
 "nbformat_minor": 2
}

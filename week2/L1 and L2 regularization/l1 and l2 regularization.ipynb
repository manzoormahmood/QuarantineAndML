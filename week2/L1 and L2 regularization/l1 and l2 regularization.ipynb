{
 "cells": [
  {
   "cell_type": "code",
   "execution_count": 16,
   "metadata": {},
   "outputs": [],
   "source": [
    "import pandas as pd\n",
    "import numpy as np\n",
    "from pandas import DataFrame\n",
    "import catboost as cb\n",
    "from sklearn.metrics import mean_squared_log_error, mean_squared_error\n",
    "from sklearn.model_selection import train_test_split, KFold, cross_val_score \n",
    "from sklearn.preprocessing import MinMaxScaler\n",
    "import xlsxwriter \n",
    "from sklearn import metrics\n",
    "from sklearn.metrics import log_loss\n",
    "from sklearn.linear_model import LinearRegression, Ridge, Lasso \n",
    "from statistics import mean "
   ]
  },
  {
   "cell_type": "code",
   "execution_count": 17,
   "metadata": {},
   "outputs": [],
   "source": [
    "train = pd.read_csv(\"Train.csv\")\n",
    "train_data=train[train.columns[0:16]]\n",
    "train_label=train['labels']"
   ]
  },
  {
   "cell_type": "code",
   "execution_count": 18,
   "metadata": {},
   "outputs": [],
   "source": [
    "x_train, x_test, y_train, y_test = train_test_split(train_data, train_label, test_size=0.2, random_state=42)"
   ]
  },
  {
   "cell_type": "code",
   "execution_count": 19,
   "metadata": {},
   "outputs": [
    {
     "name": "stdout",
     "output_type": "stream",
     "text": [
      "0.22970216125821563\n"
     ]
    }
   ],
   "source": [
    "#linear model\n",
    "linearModel = LinearRegression() \n",
    "linearModel.fit(x_train, y_train) \n",
    "  \n",
    "# Evaluating the Linear Regression model \n",
    "print(linearModel.score(x_test, y_test)) "
   ]
  },
  {
   "cell_type": "code",
   "execution_count": 20,
   "metadata": {},
   "outputs": [
    {
     "name": "stdout",
     "output_type": "stream",
     "text": [
      "0.25 : 22.519964265455226\n",
      "0.5 : 22.520056721657753\n",
      "0.75 : 22.520148821252786\n",
      "1.0 : 22.520240565278087\n",
      "1.25 : 22.52033195476373\n",
      "1.5 : 22.520422990732165\n",
      "1.75 : 22.520513674198323\n",
      "2.0 : 22.52060400616971\n"
     ]
    }
   ],
   "source": [
    "#l2 regularization (ridge)\n",
    "# List to maintain the different cross-validation scores \n",
    "cross_val_scores_ridge = [] \n",
    "  \n",
    "# List to maintain the different values of alpha \n",
    "alpha = [] \n",
    "  \n",
    "# Loop to compute the different values of cross-validation scores \n",
    "for i in range(1, 9): \n",
    "    ridgeModel = Ridge(alpha = i * 0.25) \n",
    "    ridgeModel.fit(x_train, y_train) \n",
    "    scores = cross_val_score(ridgeModel,x_test, y_test, cv = 10) \n",
    "    avg_cross_val_score = mean(scores)*100\n",
    "    cross_val_scores_ridge.append(avg_cross_val_score) \n",
    "    alpha.append(i * 0.25) \n",
    "    \n",
    "#Loop to print the different values of cross-validation scores\n",
    "for i in range(0, len(alpha)): \n",
    "    print(str(alpha[i])+' : '+str(cross_val_scores_ridge[i])) \n",
    "  \n"
   ]
  },
  {
   "cell_type": "code",
   "execution_count": 22,
   "metadata": {},
   "outputs": [
    {
     "name": "stdout",
     "output_type": "stream",
     "text": [
      "0.25 : -0.1073176433250711\n",
      "0.5 : -0.1073176433250711\n",
      "0.75 : -0.1073176433250711\n",
      "1.0 : -0.1073176433250711\n",
      "1.25 : -0.1073176433250711\n",
      "1.5 : -0.1073176433250711\n",
      "1.75 : -0.1073176433250711\n",
      "2.0 : -0.1073176433250711\n"
     ]
    }
   ],
   "source": [
    "#l1 regularization (lasso)\n",
    "# List to maintain the cross-validation scores \n",
    "cross_val_scores_lasso = [] \n",
    "  \n",
    "# List to maintain the different values of Lambda \n",
    "Lambda = [] \n",
    "  \n",
    "# Loop to compute the cross-validation scores \n",
    "for i in range(1, 9): \n",
    "    lassoModel = Lasso(alpha = i * 0.25) \n",
    "    lassoModel.fit(x_train, y_train) \n",
    "    scores = cross_val_score(lassoModel,x_test, y_test, cv = 10) \n",
    "    avg_cross_val_score = mean(scores)*100\n",
    "    cross_val_scores_lasso.append(avg_cross_val_score) \n",
    "    Lambda.append(i * 0.25) \n",
    "    \n",
    "#Loop to print the different values of cross-validation scores \n",
    "for i in range(0, len(alpha)): \n",
    "    print(str(alpha[i])+' : '+str(cross_val_scores_lasso[i])) "
   ]
  }
 ],
 "metadata": {
  "kernelspec": {
   "display_name": "Python 3",
   "language": "python",
   "name": "python3"
  },
  "language_info": {
   "codemirror_mode": {
    "name": "ipython",
    "version": 3
   },
   "file_extension": ".py",
   "mimetype": "text/x-python",
   "name": "python",
   "nbconvert_exporter": "python",
   "pygments_lexer": "ipython3",
   "version": "3.6.7"
  }
 },
 "nbformat": 4,
 "nbformat_minor": 2
}

{
 "cells": [
  {
   "cell_type": "code",
   "execution_count": 1,
   "metadata": {},
   "outputs": [
    {
     "name": "stdout",
     "output_type": "stream",
     "text": [
      "0.4989479000084169\n",
      "0.4297770985891807\n",
      "age gini: 0.43320264032234596\n"
     ]
    }
   ],
   "source": [
    "#assuming (age==child) as root node\n",
    "gini1=1-(57/(57+52))**2-(52/(52+57))**2\n",
    "gini2=1-(654/(654+1438))**2-(1438/(654+1438))**2\n",
    "gini_age=((109/(109+2092))*(gini1))+((2092/(109+2092))*(gini2))\n",
    "print(gini1)\n",
    "print(gini2)\n",
    "print(\"age gini:\",gini_age)"
   ]
  },
  {
   "cell_type": "code",
   "execution_count": 3,
   "metadata": {},
   "outputs": [
    {
     "name": "stdout",
     "output_type": "stream",
     "text": [
      "0.46894201183431955\n",
      "0.39492455480744315\n",
      "class gini: 0.40585398394589606\n"
     ]
    }
   ],
   "source": [
    "#assuming (class==first) as root node\n",
    "gini1=1-(203/(203+122))**2-(122/(203+122))**2\n",
    "gini2=1-(508/(508+1368))**2-(1368/(508+1368))**2\n",
    "gini_class=((325/(325+1876))*(gini1))+((1876/(325+1876))*(gini2))\n",
    "print(gini1)\n",
    "print(gini2)\n",
    "print(\"class gini:\",gini_class)"
   ]
  },
  {
   "cell_type": "code",
   "execution_count": 4,
   "metadata": {},
   "outputs": [
    {
     "name": "stdout",
     "output_type": "stream",
     "text": [
      "0.33413063379212304\n",
      "0.39243096423721147\n",
      "gender gini: 0.3465800455636776\n"
     ]
    }
   ],
   "source": [
    "#assuming (gender==M) as root node\n",
    "gini1=1-(367/(367+1364))**2-(1364/(367+1364))**2\n",
    "gini2=1-(344/(344+126))**2-(126/(344+126))**2\n",
    "gini_gender=((1731/(1731+470))*(gini1))+((470/(1731+470))*(gini2))\n",
    "print(gini1)\n",
    "print(gini2)\n",
    "print(\"gender gini:\",gini_gender)"
   ]
  },
  {
   "cell_type": "code",
   "execution_count": 8,
   "metadata": {},
   "outputs": [
    {
     "name": "stdout",
     "output_type": "stream",
     "text": [
      "22.398909586551568\n"
     ]
    }
   ],
   "source": [
    "#Finding accuracy on depth 1 decision tree\n",
    "total=2201\n",
    "total_male_correct_predict=367\n",
    "total_female_correct_predict=126\n",
    "accuracy=(total_male_correct_predict+total_female_correct_predict)/total*100\n",
    "print(accuracy)"
   ]
  },
  {
   "cell_type": "code",
   "execution_count": 5,
   "metadata": {},
   "outputs": [
    {
     "data": {
      "text/plain": [
       "0.7760109041344844"
      ]
     },
     "execution_count": 5,
     "metadata": {},
     "output_type": "execute_result"
    }
   ],
   "source": [
    "\n",
    "(344+1364)/2201"
   ]
  }
 ],
 "metadata": {
  "kernelspec": {
   "display_name": "Python 3",
   "language": "python",
   "name": "python3"
  },
  "language_info": {
   "codemirror_mode": {
    "name": "ipython",
    "version": 3
   },
   "file_extension": ".py",
   "mimetype": "text/x-python",
   "name": "python",
   "nbconvert_exporter": "python",
   "pygments_lexer": "ipython3",
   "version": "3.6.7"
  }
 },
 "nbformat": 4,
 "nbformat_minor": 2
}

{
 "cells": [
  {
   "cell_type": "code",
   "execution_count": 11,
   "metadata": {},
   "outputs": [],
   "source": [
    "#regression\n",
    "import numpy as np\n",
    "import pandas as pd\n",
    "\n",
    "from sklearn import preprocessing\n",
    "from sklearn.model_selection import train_test_split\n",
    "from sklearn.metrics import mean_squared_error\n",
    "from sklearn.linear_model import SGDRegressor\n",
    "from sklearn.linear_model.stochastic_gradient import SGDRegressor\n",
    "from sklearn.metrics import r2_score\n",
    "import pickle\n",
    "from sklearn.preprocessing import StandardScaler\n",
    "from sklearn.metrics import mean_absolute_error\n",
    "from sklearn.preprocessing import MinMaxScaler\n",
    "\n",
    "\n",
    "%matplotlib inline\n",
    "import matplotlib.pyplot as plt"
   ]
  },
  {
   "cell_type": "code",
   "execution_count": 2,
   "metadata": {},
   "outputs": [],
   "source": [
    "data = pd.read_excel('Thermal Comfort Survey Data, Darjeeling, India, 2018.xlsx', sheet_name=1)\n",
    "data=data[['Top','Va','RH','met','clo_tot','PMV']]"
   ]
  },
  {
   "cell_type": "code",
   "execution_count": 3,
   "metadata": {},
   "outputs": [],
   "source": [
    "train_data=data[['Top','Va','RH','met','clo_tot']]\n",
    "train_label=data['PMV']"
   ]
  },
  {
   "cell_type": "code",
   "execution_count": 4,
   "metadata": {},
   "outputs": [],
   "source": [
    "#normalization\n",
    "scaler = StandardScaler()\n",
    "scaler.fit(train_data)\n",
    "train_data=(scaler.transform(train_data))\n",
    "\n"
   ]
  },
  {
   "cell_type": "code",
   "execution_count": 5,
   "metadata": {},
   "outputs": [],
   "source": [
    "#min max scaler\n",
    "#scaler = MinMaxScaler()\n",
    "#scaler.fit(train_data)\n",
    "#rain_data=(scaler.transform(train_data))"
   ]
  },
  {
   "cell_type": "code",
   "execution_count": 6,
   "metadata": {},
   "outputs": [],
   "source": [
    "x_train,x_test,y_train,y_test=train_test_split(train_data,train_label,test_size=0.2,random_state=200)\n",
    "temp=x_test"
   ]
  },
  {
   "cell_type": "code",
   "execution_count": 7,
   "metadata": {},
   "outputs": [],
   "source": [
    "#scaler = StandardScaler()\n",
    "#scaler.fit(x_train) #fit Compute the mean and std to be used for later scaling.\n",
    "#x_train=(scaler.transform(x_train)) #transform-Perform standardization by centering and scaling\n",
    "\n",
    "\n",
    "#scaler = StandardScaler()\n",
    "#scaler.fit(x_test)\n",
    "#x_test=(scaler.transform(x_test))\n"
   ]
  },
  {
   "cell_type": "code",
   "execution_count": 8,
   "metadata": {},
   "outputs": [
    {
     "name": "stderr",
     "output_type": "stream",
     "text": [
      "c:\\users\\manzoor\\anaconda3\\envs\\venv\\lib\\site-packages\\sklearn\\linear_model\\_stochastic_gradient.py:1188: ConvergenceWarning: Maximum number of iteration reached before convergence. Consider increasing max_iter to improve the fit.\n",
      "  ConvergenceWarning)\n"
     ]
    }
   ],
   "source": [
    "\n",
    "sgd_reg = SGDRegressor(loss='squared_loss',alpha=0.0001, fit_intercept=False, max_iter=6, random_state=123, learning_rate='constant',\n",
    "                       eta0=0.01)\n",
    "sgd_reg.fit(x_train, y_train)\n",
    "y_pred2 = sgd_reg.predict(x_test)"
   ]
  },
  {
   "cell_type": "code",
   "execution_count": 17,
   "metadata": {
    "scrolled": true
   },
   "outputs": [
    {
     "name": "stderr",
     "output_type": "stream",
     "text": [
      "c:\\users\\manzoor\\anaconda3\\envs\\venv\\lib\\site-packages\\sklearn\\linear_model\\_stochastic_gradient.py:1188: ConvergenceWarning: Maximum number of iteration reached before convergence. Consider increasing max_iter to improve the fit.\n",
      "  ConvergenceWarning)\n",
      "c:\\users\\manzoor\\anaconda3\\envs\\venv\\lib\\site-packages\\sklearn\\linear_model\\_stochastic_gradient.py:1188: ConvergenceWarning: Maximum number of iteration reached before convergence. Consider increasing max_iter to improve the fit.\n",
      "  ConvergenceWarning)\n",
      "c:\\users\\manzoor\\anaconda3\\envs\\venv\\lib\\site-packages\\sklearn\\linear_model\\_stochastic_gradient.py:1188: ConvergenceWarning: Maximum number of iteration reached before convergence. Consider increasing max_iter to improve the fit.\n",
      "  ConvergenceWarning)\n",
      "c:\\users\\manzoor\\anaconda3\\envs\\venv\\lib\\site-packages\\sklearn\\linear_model\\_stochastic_gradient.py:1188: ConvergenceWarning: Maximum number of iteration reached before convergence. Consider increasing max_iter to improve the fit.\n",
      "  ConvergenceWarning)\n",
      "c:\\users\\manzoor\\anaconda3\\envs\\venv\\lib\\site-packages\\sklearn\\linear_model\\_stochastic_gradient.py:1188: ConvergenceWarning: Maximum number of iteration reached before convergence. Consider increasing max_iter to improve the fit.\n",
      "  ConvergenceWarning)\n",
      "c:\\users\\manzoor\\anaconda3\\envs\\venv\\lib\\site-packages\\sklearn\\linear_model\\_stochastic_gradient.py:1188: ConvergenceWarning: Maximum number of iteration reached before convergence. Consider increasing max_iter to improve the fit.\n",
      "  ConvergenceWarning)\n",
      "c:\\users\\manzoor\\anaconda3\\envs\\venv\\lib\\site-packages\\sklearn\\linear_model\\_stochastic_gradient.py:1188: ConvergenceWarning: Maximum number of iteration reached before convergence. Consider increasing max_iter to improve the fit.\n",
      "  ConvergenceWarning)\n",
      "c:\\users\\manzoor\\anaconda3\\envs\\venv\\lib\\site-packages\\sklearn\\linear_model\\_stochastic_gradient.py:1188: ConvergenceWarning: Maximum number of iteration reached before convergence. Consider increasing max_iter to improve the fit.\n",
      "  ConvergenceWarning)\n",
      "c:\\users\\manzoor\\anaconda3\\envs\\venv\\lib\\site-packages\\sklearn\\linear_model\\_stochastic_gradient.py:1188: ConvergenceWarning: Maximum number of iteration reached before convergence. Consider increasing max_iter to improve the fit.\n",
      "  ConvergenceWarning)\n",
      "c:\\users\\manzoor\\anaconda3\\envs\\venv\\lib\\site-packages\\sklearn\\linear_model\\_stochastic_gradient.py:1188: ConvergenceWarning: Maximum number of iteration reached before convergence. Consider increasing max_iter to improve the fit.\n",
      "  ConvergenceWarning)\n",
      "c:\\users\\manzoor\\anaconda3\\envs\\venv\\lib\\site-packages\\sklearn\\linear_model\\_stochastic_gradient.py:1188: ConvergenceWarning: Maximum number of iteration reached before convergence. Consider increasing max_iter to improve the fit.\n",
      "  ConvergenceWarning)\n",
      "c:\\users\\manzoor\\anaconda3\\envs\\venv\\lib\\site-packages\\sklearn\\linear_model\\_stochastic_gradient.py:1188: ConvergenceWarning: Maximum number of iteration reached before convergence. Consider increasing max_iter to improve the fit.\n",
      "  ConvergenceWarning)\n",
      "c:\\users\\manzoor\\anaconda3\\envs\\venv\\lib\\site-packages\\sklearn\\linear_model\\_stochastic_gradient.py:1188: ConvergenceWarning: Maximum number of iteration reached before convergence. Consider increasing max_iter to improve the fit.\n",
      "  ConvergenceWarning)\n",
      "c:\\users\\manzoor\\anaconda3\\envs\\venv\\lib\\site-packages\\sklearn\\linear_model\\_stochastic_gradient.py:1188: ConvergenceWarning: Maximum number of iteration reached before convergence. Consider increasing max_iter to improve the fit.\n",
      "  ConvergenceWarning)\n",
      "c:\\users\\manzoor\\anaconda3\\envs\\venv\\lib\\site-packages\\sklearn\\linear_model\\_stochastic_gradient.py:1188: ConvergenceWarning: Maximum number of iteration reached before convergence. Consider increasing max_iter to improve the fit.\n",
      "  ConvergenceWarning)\n",
      "c:\\users\\manzoor\\anaconda3\\envs\\venv\\lib\\site-packages\\sklearn\\linear_model\\_stochastic_gradient.py:1188: ConvergenceWarning: Maximum number of iteration reached before convergence. Consider increasing max_iter to improve the fit.\n",
      "  ConvergenceWarning)\n",
      "c:\\users\\manzoor\\anaconda3\\envs\\venv\\lib\\site-packages\\sklearn\\linear_model\\_stochastic_gradient.py:1188: ConvergenceWarning: Maximum number of iteration reached before convergence. Consider increasing max_iter to improve the fit.\n",
      "  ConvergenceWarning)\n",
      "c:\\users\\manzoor\\anaconda3\\envs\\venv\\lib\\site-packages\\sklearn\\linear_model\\_stochastic_gradient.py:1188: ConvergenceWarning: Maximum number of iteration reached before convergence. Consider increasing max_iter to improve the fit.\n",
      "  ConvergenceWarning)\n"
     ]
    },
    {
     "name": "stdout",
     "output_type": "stream",
     "text": [
      "score: 0.8299423367190629 param: {'alpha': 0.001, 'max_iter': 10}\n"
     ]
    },
    {
     "name": "stderr",
     "output_type": "stream",
     "text": [
      "c:\\users\\manzoor\\anaconda3\\envs\\venv\\lib\\site-packages\\sklearn\\linear_model\\_stochastic_gradient.py:1188: ConvergenceWarning: Maximum number of iteration reached before convergence. Consider increasing max_iter to improve the fit.\n",
      "  ConvergenceWarning)\n",
      "c:\\users\\manzoor\\anaconda3\\envs\\venv\\lib\\site-packages\\sklearn\\linear_model\\_stochastic_gradient.py:1188: ConvergenceWarning: Maximum number of iteration reached before convergence. Consider increasing max_iter to improve the fit.\n",
      "  ConvergenceWarning)\n",
      "c:\\users\\manzoor\\anaconda3\\envs\\venv\\lib\\site-packages\\sklearn\\linear_model\\_stochastic_gradient.py:1188: ConvergenceWarning: Maximum number of iteration reached before convergence. Consider increasing max_iter to improve the fit.\n",
      "  ConvergenceWarning)\n",
      "c:\\users\\manzoor\\anaconda3\\envs\\venv\\lib\\site-packages\\sklearn\\linear_model\\_stochastic_gradient.py:1188: ConvergenceWarning: Maximum number of iteration reached before convergence. Consider increasing max_iter to improve the fit.\n",
      "  ConvergenceWarning)\n",
      "c:\\users\\manzoor\\anaconda3\\envs\\venv\\lib\\site-packages\\sklearn\\linear_model\\_stochastic_gradient.py:1188: ConvergenceWarning: Maximum number of iteration reached before convergence. Consider increasing max_iter to improve the fit.\n",
      "  ConvergenceWarning)\n",
      "c:\\users\\manzoor\\anaconda3\\envs\\venv\\lib\\site-packages\\sklearn\\linear_model\\_stochastic_gradient.py:1188: ConvergenceWarning: Maximum number of iteration reached before convergence. Consider increasing max_iter to improve the fit.\n",
      "  ConvergenceWarning)\n"
     ]
    }
   ],
   "source": []
  },
  {
   "cell_type": "code",
   "execution_count": 20,
   "metadata": {},
   "outputs": [
    {
     "name": "stdout",
     "output_type": "stream",
     "text": [
      "score: 0.8299423367190629 param: {'max_iter': 50, 'alpha': 0.001}\n"
     ]
    },
    {
     "name": "stderr",
     "output_type": "stream",
     "text": [
      "c:\\users\\manzoor\\anaconda3\\envs\\venv\\lib\\site-packages\\sklearn\\linear_model\\_stochastic_gradient.py:1188: ConvergenceWarning: Maximum number of iteration reached before convergence. Consider increasing max_iter to improve the fit.\n",
      "  ConvergenceWarning)\n",
      "c:\\users\\manzoor\\anaconda3\\envs\\venv\\lib\\site-packages\\sklearn\\linear_model\\_stochastic_gradient.py:1188: ConvergenceWarning: Maximum number of iteration reached before convergence. Consider increasing max_iter to improve the fit.\n",
      "  ConvergenceWarning)\n",
      "c:\\users\\manzoor\\anaconda3\\envs\\venv\\lib\\site-packages\\sklearn\\linear_model\\_stochastic_gradient.py:1188: ConvergenceWarning: Maximum number of iteration reached before convergence. Consider increasing max_iter to improve the fit.\n",
      "  ConvergenceWarning)\n",
      "c:\\users\\manzoor\\anaconda3\\envs\\venv\\lib\\site-packages\\sklearn\\linear_model\\_stochastic_gradient.py:1188: ConvergenceWarning: Maximum number of iteration reached before convergence. Consider increasing max_iter to improve the fit.\n",
      "  ConvergenceWarning)\n",
      "c:\\users\\manzoor\\anaconda3\\envs\\venv\\lib\\site-packages\\sklearn\\linear_model\\_stochastic_gradient.py:1188: ConvergenceWarning: Maximum number of iteration reached before convergence. Consider increasing max_iter to improve the fit.\n",
      "  ConvergenceWarning)\n",
      "c:\\users\\manzoor\\anaconda3\\envs\\venv\\lib\\site-packages\\sklearn\\linear_model\\_stochastic_gradient.py:1188: ConvergenceWarning: Maximum number of iteration reached before convergence. Consider increasing max_iter to improve the fit.\n",
      "  ConvergenceWarning)\n",
      "c:\\users\\manzoor\\anaconda3\\envs\\venv\\lib\\site-packages\\sklearn\\linear_model\\_stochastic_gradient.py:1188: ConvergenceWarning: Maximum number of iteration reached before convergence. Consider increasing max_iter to improve the fit.\n",
      "  ConvergenceWarning)\n",
      "c:\\users\\manzoor\\anaconda3\\envs\\venv\\lib\\site-packages\\sklearn\\linear_model\\_stochastic_gradient.py:1188: ConvergenceWarning: Maximum number of iteration reached before convergence. Consider increasing max_iter to improve the fit.\n",
      "  ConvergenceWarning)\n",
      "c:\\users\\manzoor\\anaconda3\\envs\\venv\\lib\\site-packages\\sklearn\\linear_model\\_stochastic_gradient.py:1188: ConvergenceWarning: Maximum number of iteration reached before convergence. Consider increasing max_iter to improve the fit.\n",
      "  ConvergenceWarning)\n",
      "c:\\users\\manzoor\\anaconda3\\envs\\venv\\lib\\site-packages\\sklearn\\linear_model\\_stochastic_gradient.py:1188: ConvergenceWarning: Maximum number of iteration reached before convergence. Consider increasing max_iter to improve the fit.\n",
      "  ConvergenceWarning)\n",
      "c:\\users\\manzoor\\anaconda3\\envs\\venv\\lib\\site-packages\\sklearn\\linear_model\\_stochastic_gradient.py:1188: ConvergenceWarning: Maximum number of iteration reached before convergence. Consider increasing max_iter to improve the fit.\n",
      "  ConvergenceWarning)\n",
      "c:\\users\\manzoor\\anaconda3\\envs\\venv\\lib\\site-packages\\sklearn\\linear_model\\_stochastic_gradient.py:1188: ConvergenceWarning: Maximum number of iteration reached before convergence. Consider increasing max_iter to improve the fit.\n",
      "  ConvergenceWarning)\n",
      "c:\\users\\manzoor\\anaconda3\\envs\\venv\\lib\\site-packages\\sklearn\\linear_model\\_stochastic_gradient.py:1188: ConvergenceWarning: Maximum number of iteration reached before convergence. Consider increasing max_iter to improve the fit.\n",
      "  ConvergenceWarning)\n",
      "c:\\users\\manzoor\\anaconda3\\envs\\venv\\lib\\site-packages\\sklearn\\linear_model\\_stochastic_gradient.py:1188: ConvergenceWarning: Maximum number of iteration reached before convergence. Consider increasing max_iter to improve the fit.\n",
      "  ConvergenceWarning)\n",
      "c:\\users\\manzoor\\anaconda3\\envs\\venv\\lib\\site-packages\\sklearn\\linear_model\\_stochastic_gradient.py:1188: ConvergenceWarning: Maximum number of iteration reached before convergence. Consider increasing max_iter to improve the fit.\n",
      "  ConvergenceWarning)\n",
      "c:\\users\\manzoor\\anaconda3\\envs\\venv\\lib\\site-packages\\sklearn\\linear_model\\_stochastic_gradient.py:1188: ConvergenceWarning: Maximum number of iteration reached before convergence. Consider increasing max_iter to improve the fit.\n",
      "  ConvergenceWarning)\n",
      "c:\\users\\manzoor\\anaconda3\\envs\\venv\\lib\\site-packages\\sklearn\\linear_model\\_stochastic_gradient.py:1188: ConvergenceWarning: Maximum number of iteration reached before convergence. Consider increasing max_iter to improve the fit.\n",
      "  ConvergenceWarning)\n",
      "c:\\users\\manzoor\\anaconda3\\envs\\venv\\lib\\site-packages\\sklearn\\linear_model\\_stochastic_gradient.py:1188: ConvergenceWarning: Maximum number of iteration reached before convergence. Consider increasing max_iter to improve the fit.\n",
      "  ConvergenceWarning)\n",
      "c:\\users\\manzoor\\anaconda3\\envs\\venv\\lib\\site-packages\\sklearn\\linear_model\\_stochastic_gradient.py:1188: ConvergenceWarning: Maximum number of iteration reached before convergence. Consider increasing max_iter to improve the fit.\n",
      "  ConvergenceWarning)\n",
      "c:\\users\\manzoor\\anaconda3\\envs\\venv\\lib\\site-packages\\sklearn\\linear_model\\_stochastic_gradient.py:1188: ConvergenceWarning: Maximum number of iteration reached before convergence. Consider increasing max_iter to improve the fit.\n",
      "  ConvergenceWarning)\n",
      "c:\\users\\manzoor\\anaconda3\\envs\\venv\\lib\\site-packages\\sklearn\\linear_model\\_stochastic_gradient.py:1188: ConvergenceWarning: Maximum number of iteration reached before convergence. Consider increasing max_iter to improve the fit.\n",
      "  ConvergenceWarning)\n",
      "c:\\users\\manzoor\\anaconda3\\envs\\venv\\lib\\site-packages\\sklearn\\linear_model\\_stochastic_gradient.py:1188: ConvergenceWarning: Maximum number of iteration reached before convergence. Consider increasing max_iter to improve the fit.\n",
      "  ConvergenceWarning)\n",
      "c:\\users\\manzoor\\anaconda3\\envs\\venv\\lib\\site-packages\\sklearn\\linear_model\\_stochastic_gradient.py:1188: ConvergenceWarning: Maximum number of iteration reached before convergence. Consider increasing max_iter to improve the fit.\n",
      "  ConvergenceWarning)\n",
      "c:\\users\\manzoor\\anaconda3\\envs\\venv\\lib\\site-packages\\sklearn\\linear_model\\_stochastic_gradient.py:1188: ConvergenceWarning: Maximum number of iteration reached before convergence. Consider increasing max_iter to improve the fit.\n",
      "  ConvergenceWarning)\n"
     ]
    }
   ],
   "source": [
    "    #RandomizeSearch no CV\n",
    "\n",
    "    from sklearn.model_selection import RandomizedSearchCV\n",
    "    alpha=[0.0001,0.001,0.005]\n",
    "    max_iter=[2,10,50,100]\n",
    "    param_grid = dict(max_iter=max_iter,alpha=alpha)\n",
    "    grid = RandomizedSearchCV(estimator=sgd_reg, param_distributions=param_grid, cv = 5)\n",
    "    grid_result=grid.fit(x_train,y_train)\n",
    "    \n",
    "    print(\"score:\",grid_result.best_score_,\"param:\",grid_result.best_params_)\n",
    "    y_pred2=grid.predict(x_test)\n",
    "\n"
   ]
  }
 ],
 "metadata": {
  "kernelspec": {
   "display_name": "Python 3",
   "language": "python",
   "name": "python3"
  },
  "language_info": {
   "codemirror_mode": {
    "name": "ipython",
    "version": 3
   },
   "file_extension": ".py",
   "mimetype": "text/x-python",
   "name": "python",
   "nbconvert_exporter": "python",
   "pygments_lexer": "ipython3",
   "version": "3.6.7"
  }
 },
 "nbformat": 4,
 "nbformat_minor": 2
}

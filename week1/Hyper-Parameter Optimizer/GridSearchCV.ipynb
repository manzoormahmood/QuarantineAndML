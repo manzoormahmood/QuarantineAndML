{
 "cells": [
  {
   "cell_type": "code",
   "execution_count": 144,
   "metadata": {},
   "outputs": [],
   "source": [
    "#regression\n",
    "import numpy as np\n",
    "import pandas as pd\n",
    "\n",
    "from sklearn import preprocessing\n",
    "from sklearn.model_selection import train_test_split\n",
    "from sklearn.metrics import mean_squared_error\n",
    "from sklearn.linear_model import SGDRegressor\n",
    "from sklearn.linear_model.stochastic_gradient import SGDRegressor\n",
    "from sklearn.metrics import r2_score\n",
    "import pickle\n",
    "from sklearn.preprocessing import StandardScaler\n",
    "from sklearn.metrics import mean_absolute_error\n",
    "from sklearn.preprocessing import MinMaxScaler\n",
    "\n",
    "%matplotlib inline\n",
    "import matplotlib.pyplot as plt"
   ]
  },
  {
   "cell_type": "code",
   "execution_count": 145,
   "metadata": {},
   "outputs": [],
   "source": [
    "data = pd.read_excel('Thermal Comfort Survey Data, Darjeeling, India, 2018.xlsx', sheet_name=1)\n",
    "data=data[['Top','Va','RH','met','clo_tot','PMV']]"
   ]
  },
  {
   "cell_type": "code",
   "execution_count": 146,
   "metadata": {},
   "outputs": [],
   "source": [
    "train_data=data[['Top','Va','RH','met','clo_tot']]\n",
    "train_label=data['PMV']"
   ]
  },
  {
   "cell_type": "code",
   "execution_count": 147,
   "metadata": {},
   "outputs": [],
   "source": [
    "#normalization\n",
    "scaler = StandardScaler()\n",
    "scaler.fit(train_data)\n",
    "train_data=(scaler.transform(train_data))\n",
    "\n"
   ]
  },
  {
   "cell_type": "code",
   "execution_count": 148,
   "metadata": {},
   "outputs": [],
   "source": [
    "#min max scaler\n",
    "#scaler = MinMaxScaler()\n",
    "#scaler.fit(train_data)\n",
    "#rain_data=(scaler.transform(train_data))"
   ]
  },
  {
   "cell_type": "code",
   "execution_count": 149,
   "metadata": {},
   "outputs": [],
   "source": [
    "x_train,x_test,y_train,y_test=train_test_split(train_data,train_label,test_size=0.2,random_state=200)\n",
    "temp=x_test"
   ]
  },
  {
   "cell_type": "code",
   "execution_count": 150,
   "metadata": {},
   "outputs": [],
   "source": [
    "#scaler = StandardScaler()\n",
    "#scaler.fit(x_train) #fit Compute the mean and std to be used for later scaling.\n",
    "#x_train=(scaler.transform(x_train)) #transform-Perform standardization by centering and scaling\n",
    "\n",
    "\n",
    "#scaler = StandardScaler()\n",
    "#scaler.fit(x_test)\n",
    "#x_test=(scaler.transform(x_test))\n"
   ]
  },
  {
   "cell_type": "code",
   "execution_count": 193,
   "metadata": {},
   "outputs": [
    {
     "name": "stderr",
     "output_type": "stream",
     "text": [
      "c:\\users\\manzoor\\anaconda3\\envs\\venv\\lib\\site-packages\\sklearn\\linear_model\\_stochastic_gradient.py:1188: ConvergenceWarning: Maximum number of iteration reached before convergence. Consider increasing max_iter to improve the fit.\n",
      "  ConvergenceWarning)\n"
     ]
    }
   ],
   "source": [
    "\n",
    "sgd_reg = SGDRegressor(loss='squared_loss',alpha=0.0001, fit_intercept=False, max_iter=6, random_state=123, learning_rate='constant',\n",
    "                       eta0=0.01)\n",
    "sgd_reg.fit(x_train, y_train)\n",
    "y_pred2 = sgd_reg.predict(x_test)"
   ]
  },
  {
   "cell_type": "code",
   "execution_count": 201,
   "metadata": {},
   "outputs": [
    {
     "name": "stderr",
     "output_type": "stream",
     "text": [
      "c:\\users\\manzoor\\anaconda3\\envs\\venv\\lib\\site-packages\\sklearn\\linear_model\\_stochastic_gradient.py:1188: ConvergenceWarning: Maximum number of iteration reached before convergence. Consider increasing max_iter to improve the fit.\n",
      "  ConvergenceWarning)\n",
      "c:\\users\\manzoor\\anaconda3\\envs\\venv\\lib\\site-packages\\sklearn\\linear_model\\_stochastic_gradient.py:1188: ConvergenceWarning: Maximum number of iteration reached before convergence. Consider increasing max_iter to improve the fit.\n",
      "  ConvergenceWarning)\n",
      "c:\\users\\manzoor\\anaconda3\\envs\\venv\\lib\\site-packages\\sklearn\\linear_model\\_stochastic_gradient.py:1188: ConvergenceWarning: Maximum number of iteration reached before convergence. Consider increasing max_iter to improve the fit.\n",
      "  ConvergenceWarning)\n",
      "c:\\users\\manzoor\\anaconda3\\envs\\venv\\lib\\site-packages\\sklearn\\linear_model\\_stochastic_gradient.py:1188: ConvergenceWarning: Maximum number of iteration reached before convergence. Consider increasing max_iter to improve the fit.\n",
      "  ConvergenceWarning)\n",
      "c:\\users\\manzoor\\anaconda3\\envs\\venv\\lib\\site-packages\\sklearn\\linear_model\\_stochastic_gradient.py:1188: ConvergenceWarning: Maximum number of iteration reached before convergence. Consider increasing max_iter to improve the fit.\n",
      "  ConvergenceWarning)\n",
      "c:\\users\\manzoor\\anaconda3\\envs\\venv\\lib\\site-packages\\sklearn\\linear_model\\_stochastic_gradient.py:1188: ConvergenceWarning: Maximum number of iteration reached before convergence. Consider increasing max_iter to improve the fit.\n",
      "  ConvergenceWarning)\n",
      "c:\\users\\manzoor\\anaconda3\\envs\\venv\\lib\\site-packages\\sklearn\\linear_model\\_stochastic_gradient.py:1188: ConvergenceWarning: Maximum number of iteration reached before convergence. Consider increasing max_iter to improve the fit.\n",
      "  ConvergenceWarning)\n",
      "c:\\users\\manzoor\\anaconda3\\envs\\venv\\lib\\site-packages\\sklearn\\linear_model\\_stochastic_gradient.py:1188: ConvergenceWarning: Maximum number of iteration reached before convergence. Consider increasing max_iter to improve the fit.\n",
      "  ConvergenceWarning)\n",
      "c:\\users\\manzoor\\anaconda3\\envs\\venv\\lib\\site-packages\\sklearn\\linear_model\\_stochastic_gradient.py:1188: ConvergenceWarning: Maximum number of iteration reached before convergence. Consider increasing max_iter to improve the fit.\n",
      "  ConvergenceWarning)\n",
      "c:\\users\\manzoor\\anaconda3\\envs\\venv\\lib\\site-packages\\sklearn\\linear_model\\_stochastic_gradient.py:1188: ConvergenceWarning: Maximum number of iteration reached before convergence. Consider increasing max_iter to improve the fit.\n",
      "  ConvergenceWarning)\n",
      "c:\\users\\manzoor\\anaconda3\\envs\\venv\\lib\\site-packages\\sklearn\\linear_model\\_stochastic_gradient.py:1188: ConvergenceWarning: Maximum number of iteration reached before convergence. Consider increasing max_iter to improve the fit.\n",
      "  ConvergenceWarning)\n",
      "c:\\users\\manzoor\\anaconda3\\envs\\venv\\lib\\site-packages\\sklearn\\linear_model\\_stochastic_gradient.py:1188: ConvergenceWarning: Maximum number of iteration reached before convergence. Consider increasing max_iter to improve the fit.\n",
      "  ConvergenceWarning)\n",
      "c:\\users\\manzoor\\anaconda3\\envs\\venv\\lib\\site-packages\\sklearn\\linear_model\\_stochastic_gradient.py:1188: ConvergenceWarning: Maximum number of iteration reached before convergence. Consider increasing max_iter to improve the fit.\n",
      "  ConvergenceWarning)\n",
      "c:\\users\\manzoor\\anaconda3\\envs\\venv\\lib\\site-packages\\sklearn\\linear_model\\_stochastic_gradient.py:1188: ConvergenceWarning: Maximum number of iteration reached before convergence. Consider increasing max_iter to improve the fit.\n",
      "  ConvergenceWarning)\n",
      "c:\\users\\manzoor\\anaconda3\\envs\\venv\\lib\\site-packages\\sklearn\\linear_model\\_stochastic_gradient.py:1188: ConvergenceWarning: Maximum number of iteration reached before convergence. Consider increasing max_iter to improve the fit.\n",
      "  ConvergenceWarning)\n",
      "c:\\users\\manzoor\\anaconda3\\envs\\venv\\lib\\site-packages\\sklearn\\linear_model\\_stochastic_gradient.py:1188: ConvergenceWarning: Maximum number of iteration reached before convergence. Consider increasing max_iter to improve the fit.\n",
      "  ConvergenceWarning)\n",
      "c:\\users\\manzoor\\anaconda3\\envs\\venv\\lib\\site-packages\\sklearn\\linear_model\\_stochastic_gradient.py:1188: ConvergenceWarning: Maximum number of iteration reached before convergence. Consider increasing max_iter to improve the fit.\n",
      "  ConvergenceWarning)\n",
      "c:\\users\\manzoor\\anaconda3\\envs\\venv\\lib\\site-packages\\sklearn\\linear_model\\_stochastic_gradient.py:1188: ConvergenceWarning: Maximum number of iteration reached before convergence. Consider increasing max_iter to improve the fit.\n",
      "  ConvergenceWarning)\n",
      "c:\\users\\manzoor\\anaconda3\\envs\\venv\\lib\\site-packages\\sklearn\\linear_model\\_stochastic_gradient.py:1188: ConvergenceWarning: Maximum number of iteration reached before convergence. Consider increasing max_iter to improve the fit.\n",
      "  ConvergenceWarning)\n",
      "c:\\users\\manzoor\\anaconda3\\envs\\venv\\lib\\site-packages\\sklearn\\linear_model\\_stochastic_gradient.py:1188: ConvergenceWarning: Maximum number of iteration reached before convergence. Consider increasing max_iter to improve the fit.\n",
      "  ConvergenceWarning)\n",
      "c:\\users\\manzoor\\anaconda3\\envs\\venv\\lib\\site-packages\\sklearn\\linear_model\\_stochastic_gradient.py:1188: ConvergenceWarning: Maximum number of iteration reached before convergence. Consider increasing max_iter to improve the fit.\n",
      "  ConvergenceWarning)\n",
      "c:\\users\\manzoor\\anaconda3\\envs\\venv\\lib\\site-packages\\sklearn\\linear_model\\_stochastic_gradient.py:1188: ConvergenceWarning: Maximum number of iteration reached before convergence. Consider increasing max_iter to improve the fit.\n",
      "  ConvergenceWarning)\n",
      "c:\\users\\manzoor\\anaconda3\\envs\\venv\\lib\\site-packages\\sklearn\\linear_model\\_stochastic_gradient.py:1188: ConvergenceWarning: Maximum number of iteration reached before convergence. Consider increasing max_iter to improve the fit.\n",
      "  ConvergenceWarning)\n",
      "c:\\users\\manzoor\\anaconda3\\envs\\venv\\lib\\site-packages\\sklearn\\linear_model\\_stochastic_gradient.py:1188: ConvergenceWarning: Maximum number of iteration reached before convergence. Consider increasing max_iter to improve the fit.\n",
      "  ConvergenceWarning)\n",
      "c:\\users\\manzoor\\anaconda3\\envs\\venv\\lib\\site-packages\\sklearn\\linear_model\\_stochastic_gradient.py:1188: ConvergenceWarning: Maximum number of iteration reached before convergence. Consider increasing max_iter to improve the fit.\n",
      "  ConvergenceWarning)\n",
      "c:\\users\\manzoor\\anaconda3\\envs\\venv\\lib\\site-packages\\sklearn\\linear_model\\_stochastic_gradient.py:1188: ConvergenceWarning: Maximum number of iteration reached before convergence. Consider increasing max_iter to improve the fit.\n",
      "  ConvergenceWarning)\n",
      "c:\\users\\manzoor\\anaconda3\\envs\\venv\\lib\\site-packages\\sklearn\\linear_model\\_stochastic_gradient.py:1188: ConvergenceWarning: Maximum number of iteration reached before convergence. Consider increasing max_iter to improve the fit.\n",
      "  ConvergenceWarning)\n",
      "c:\\users\\manzoor\\anaconda3\\envs\\venv\\lib\\site-packages\\sklearn\\linear_model\\_stochastic_gradient.py:1188: ConvergenceWarning: Maximum number of iteration reached before convergence. Consider increasing max_iter to improve the fit.\n",
      "  ConvergenceWarning)\n",
      "c:\\users\\manzoor\\anaconda3\\envs\\venv\\lib\\site-packages\\sklearn\\linear_model\\_stochastic_gradient.py:1188: ConvergenceWarning: Maximum number of iteration reached before convergence. Consider increasing max_iter to improve the fit.\n",
      "  ConvergenceWarning)\n",
      "c:\\users\\manzoor\\anaconda3\\envs\\venv\\lib\\site-packages\\sklearn\\linear_model\\_stochastic_gradient.py:1188: ConvergenceWarning: Maximum number of iteration reached before convergence. Consider increasing max_iter to improve the fit.\n",
      "  ConvergenceWarning)\n",
      "c:\\users\\manzoor\\anaconda3\\envs\\venv\\lib\\site-packages\\sklearn\\linear_model\\_stochastic_gradient.py:1188: ConvergenceWarning: Maximum number of iteration reached before convergence. Consider increasing max_iter to improve the fit.\n",
      "  ConvergenceWarning)\n",
      "c:\\users\\manzoor\\anaconda3\\envs\\venv\\lib\\site-packages\\sklearn\\linear_model\\_stochastic_gradient.py:1188: ConvergenceWarning: Maximum number of iteration reached before convergence. Consider increasing max_iter to improve the fit.\n",
      "  ConvergenceWarning)\n",
      "c:\\users\\manzoor\\anaconda3\\envs\\venv\\lib\\site-packages\\sklearn\\linear_model\\_stochastic_gradient.py:1188: ConvergenceWarning: Maximum number of iteration reached before convergence. Consider increasing max_iter to improve the fit.\n",
      "  ConvergenceWarning)\n",
      "c:\\users\\manzoor\\anaconda3\\envs\\venv\\lib\\site-packages\\sklearn\\linear_model\\_stochastic_gradient.py:1188: ConvergenceWarning: Maximum number of iteration reached before convergence. Consider increasing max_iter to improve the fit.\n",
      "  ConvergenceWarning)\n",
      "c:\\users\\manzoor\\anaconda3\\envs\\venv\\lib\\site-packages\\sklearn\\linear_model\\_stochastic_gradient.py:1188: ConvergenceWarning: Maximum number of iteration reached before convergence. Consider increasing max_iter to improve the fit.\n",
      "  ConvergenceWarning)\n",
      "c:\\users\\manzoor\\anaconda3\\envs\\venv\\lib\\site-packages\\sklearn\\linear_model\\_stochastic_gradient.py:1188: ConvergenceWarning: Maximum number of iteration reached before convergence. Consider increasing max_iter to improve the fit.\n",
      "  ConvergenceWarning)\n"
     ]
    },
    {
     "name": "stdout",
     "output_type": "stream",
     "text": [
      "score: 0.8247255760464526 param: {'alpha': 0.0001, 'max_iter': 1}\n",
      "variance: 1.173109550168227\n",
      "bias: 0.97188217644343\n",
      "mae: 0.4090815471624269\n",
      "\n",
      "score: 0.7729676656341018 param: {'alpha': 0.0001, 'max_iter': 2}\n",
      "variance: 1.2048573230774124\n",
      "bias: 0.9708304313166508\n",
      "mae: 0.407506862891906\n",
      "\n",
      "score: 0.8311291987013899 param: {'alpha': 0.0001, 'max_iter': 3}\n",
      "variance: 1.197649150991722\n",
      "bias: 0.9727372324387528\n",
      "mae: 0.4055634637859564\n",
      "\n",
      "score: 0.8279216895296783 param: {'alpha': 0.0001, 'max_iter': 4}\n",
      "variance: 1.2605825767048089\n",
      "bias: 0.9716765423718084\n",
      "mae: 0.4246063518223596\n",
      "\n",
      "score: 0.8326043999219224 param: {'alpha': 0.0001, 'max_iter': 5}\n",
      "variance: 1.2907486767047214\n",
      "bias: 0.9726987496223091\n",
      "mae: 0.4033861436679548\n",
      "\n",
      "score: 0.8329666701070565 param: {'alpha': 0.0001, 'max_iter': 6}\n",
      "variance: 1.131727234826438\n",
      "bias: 0.9713259875558576\n",
      "mae: 0.4149520166354513\n",
      "\n",
      "score: 0.8257720078604229 param: {'alpha': 0.0001, 'max_iter': 7}\n",
      "variance: 1.3257133559615293\n",
      "bias: 0.973007630395302\n",
      "mae: 0.4039075201720542\n",
      "\n",
      "score: 0.8295327746514601 param: {'alpha': 0.0001, 'max_iter': 8}\n",
      "variance: 1.3257133559615293\n",
      "bias: 0.973007630395302\n",
      "mae: 0.4039075201720542\n",
      "\n",
      "score: 0.8292383873417322 param: {'alpha': 0.0001, 'max_iter': 9}\n",
      "variance: 1.3257133559615293\n",
      "bias: 0.973007630395302\n",
      "mae: 0.4039075201720542\n",
      "\n"
     ]
    },
    {
     "name": "stderr",
     "output_type": "stream",
     "text": [
      "c:\\users\\manzoor\\anaconda3\\envs\\venv\\lib\\site-packages\\sklearn\\linear_model\\_stochastic_gradient.py:1188: ConvergenceWarning: Maximum number of iteration reached before convergence. Consider increasing max_iter to improve the fit.\n",
      "  ConvergenceWarning)\n",
      "c:\\users\\manzoor\\anaconda3\\envs\\venv\\lib\\site-packages\\sklearn\\linear_model\\_stochastic_gradient.py:1188: ConvergenceWarning: Maximum number of iteration reached before convergence. Consider increasing max_iter to improve the fit.\n",
      "  ConvergenceWarning)\n",
      "c:\\users\\manzoor\\anaconda3\\envs\\venv\\lib\\site-packages\\sklearn\\linear_model\\_stochastic_gradient.py:1188: ConvergenceWarning: Maximum number of iteration reached before convergence. Consider increasing max_iter to improve the fit.\n",
      "  ConvergenceWarning)\n",
      "c:\\users\\manzoor\\anaconda3\\envs\\venv\\lib\\site-packages\\sklearn\\linear_model\\_stochastic_gradient.py:1188: ConvergenceWarning: Maximum number of iteration reached before convergence. Consider increasing max_iter to improve the fit.\n",
      "  ConvergenceWarning)\n",
      "c:\\users\\manzoor\\anaconda3\\envs\\venv\\lib\\site-packages\\sklearn\\linear_model\\_stochastic_gradient.py:1188: ConvergenceWarning: Maximum number of iteration reached before convergence. Consider increasing max_iter to improve the fit.\n",
      "  ConvergenceWarning)\n",
      "c:\\users\\manzoor\\anaconda3\\envs\\venv\\lib\\site-packages\\sklearn\\linear_model\\_stochastic_gradient.py:1188: ConvergenceWarning: Maximum number of iteration reached before convergence. Consider increasing max_iter to improve the fit.\n",
      "  ConvergenceWarning)\n",
      "c:\\users\\manzoor\\anaconda3\\envs\\venv\\lib\\site-packages\\sklearn\\linear_model\\_stochastic_gradient.py:1188: ConvergenceWarning: Maximum number of iteration reached before convergence. Consider increasing max_iter to improve the fit.\n",
      "  ConvergenceWarning)\n",
      "c:\\users\\manzoor\\anaconda3\\envs\\venv\\lib\\site-packages\\sklearn\\linear_model\\_stochastic_gradient.py:1188: ConvergenceWarning: Maximum number of iteration reached before convergence. Consider increasing max_iter to improve the fit.\n",
      "  ConvergenceWarning)\n",
      "c:\\users\\manzoor\\anaconda3\\envs\\venv\\lib\\site-packages\\sklearn\\linear_model\\_stochastic_gradient.py:1188: ConvergenceWarning: Maximum number of iteration reached before convergence. Consider increasing max_iter to improve the fit.\n",
      "  ConvergenceWarning)\n",
      "c:\\users\\manzoor\\anaconda3\\envs\\venv\\lib\\site-packages\\sklearn\\linear_model\\_stochastic_gradient.py:1188: ConvergenceWarning: Maximum number of iteration reached before convergence. Consider increasing max_iter to improve the fit.\n",
      "  ConvergenceWarning)\n",
      "c:\\users\\manzoor\\anaconda3\\envs\\venv\\lib\\site-packages\\sklearn\\linear_model\\_stochastic_gradient.py:1188: ConvergenceWarning: Maximum number of iteration reached before convergence. Consider increasing max_iter to improve the fit.\n",
      "  ConvergenceWarning)\n",
      "c:\\users\\manzoor\\anaconda3\\envs\\venv\\lib\\site-packages\\sklearn\\linear_model\\_stochastic_gradient.py:1188: ConvergenceWarning: Maximum number of iteration reached before convergence. Consider increasing max_iter to improve the fit.\n",
      "  ConvergenceWarning)\n"
     ]
    }
   ],
   "source": [
    "for i in range (1,10):\n",
    "    from sklearn.model_selection import GridSearchCV\n",
    "    alpha=[0.0001]\n",
    "    max_iter=[i]\n",
    "    param_grid = dict(max_iter=max_iter,alpha=alpha)\n",
    "    grid = GridSearchCV(estimator=sgd_reg, param_grid=param_grid, cv = 5)\n",
    "    grid_result=grid.fit(x_train,y_train)\n",
    "    \n",
    "    print(\"score:\",grid_result.best_score_,\"param:\",grid_result.best_params_)\n",
    "    y_pred2=grid.predict(x_test)\n",
    "\n"
   ]
  }
 ],
 "metadata": {
  "kernelspec": {
   "display_name": "Python 3",
   "language": "python",
   "name": "python3"
  },
  "language_info": {
   "codemirror_mode": {
    "name": "ipython",
    "version": 3
   },
   "file_extension": ".py",
   "mimetype": "text/x-python",
   "name": "python",
   "nbconvert_exporter": "python",
   "pygments_lexer": "ipython3",
   "version": "3.6.7"
  }
 },
 "nbformat": 4,
 "nbformat_minor": 2
}

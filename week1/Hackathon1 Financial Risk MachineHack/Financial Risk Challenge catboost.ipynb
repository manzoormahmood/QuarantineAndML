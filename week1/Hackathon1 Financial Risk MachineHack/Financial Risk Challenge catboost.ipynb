{
 "cells": [
  {
   "cell_type": "code",
   "execution_count": 14,
   "metadata": {},
   "outputs": [],
   "source": [
    "import pandas as pd\n",
    "import numpy as np\n",
    "from pandas import DataFrame\n",
    "import catboost as cb\n",
    "from sklearn.metrics import mean_squared_log_error, mean_squared_error\n",
    "from sklearn.model_selection import train_test_split, KFold\n",
    "from sklearn.preprocessing import MinMaxScaler\n",
    "import xlsxwriter \n",
    "\n",
    "\n",
    "import lightgbm as lgb\n",
    "from lightgbm import LGBMModel,LGBMClassifier\n",
    "from sklearn import metrics\n",
    "\n",
    "from sklearn.svm import SVC\n",
    "\n",
    "from xgboost import XGBClassifier\n",
    "from sklearn.metrics import accuracy_score\n",
    "\n",
    "from sklearn.metrics import confusion_matrix \n",
    "from sklearn.metrics import accuracy_score \n",
    "from sklearn.metrics import classification_report\n",
    "\n",
    "from sklearn.model_selection import KFold\n",
    "from sklearn.model_selection import cross_val_score\n",
    "\n",
    "from catboost import CatBoostClassifier\n",
    "\n",
    "from sklearn.metrics import log_loss"
   ]
  },
  {
   "cell_type": "code",
   "execution_count": 15,
   "metadata": {},
   "outputs": [
    {
     "data": {
      "text/html": [
       "<div>\n",
       "<style scoped>\n",
       "    .dataframe tbody tr th:only-of-type {\n",
       "        vertical-align: middle;\n",
       "    }\n",
       "\n",
       "    .dataframe tbody tr th {\n",
       "        vertical-align: top;\n",
       "    }\n",
       "\n",
       "    .dataframe thead th {\n",
       "        text-align: right;\n",
       "    }\n",
       "</style>\n",
       "<table border=\"1\" class=\"dataframe\">\n",
       "  <thead>\n",
       "    <tr style=\"text-align: right;\">\n",
       "      <th></th>\n",
       "      <th>City</th>\n",
       "      <th>Location_Score</th>\n",
       "      <th>Internal_Audit_Score</th>\n",
       "      <th>External_Audit_Score</th>\n",
       "      <th>Fin_Score</th>\n",
       "      <th>Loss_score</th>\n",
       "      <th>Past_Results</th>\n",
       "      <th>IsUnderRisk</th>\n",
       "    </tr>\n",
       "  </thead>\n",
       "  <tbody>\n",
       "    <tr>\n",
       "      <th>0</th>\n",
       "      <td>2</td>\n",
       "      <td>8.032</td>\n",
       "      <td>14</td>\n",
       "      <td>8</td>\n",
       "      <td>3</td>\n",
       "      <td>6</td>\n",
       "      <td>0</td>\n",
       "      <td>1</td>\n",
       "    </tr>\n",
       "    <tr>\n",
       "      <th>1</th>\n",
       "      <td>31</td>\n",
       "      <td>77.730</td>\n",
       "      <td>8</td>\n",
       "      <td>3</td>\n",
       "      <td>3</td>\n",
       "      <td>8</td>\n",
       "      <td>1</td>\n",
       "      <td>0</td>\n",
       "    </tr>\n",
       "    <tr>\n",
       "      <th>2</th>\n",
       "      <td>40</td>\n",
       "      <td>59.203</td>\n",
       "      <td>3</td>\n",
       "      <td>12</td>\n",
       "      <td>11</td>\n",
       "      <td>3</td>\n",
       "      <td>0</td>\n",
       "      <td>1</td>\n",
       "    </tr>\n",
       "    <tr>\n",
       "      <th>3</th>\n",
       "      <td>12</td>\n",
       "      <td>73.080</td>\n",
       "      <td>4</td>\n",
       "      <td>5</td>\n",
       "      <td>7</td>\n",
       "      <td>6</td>\n",
       "      <td>0</td>\n",
       "      <td>0</td>\n",
       "    </tr>\n",
       "    <tr>\n",
       "      <th>4</th>\n",
       "      <td>4</td>\n",
       "      <td>15.666</td>\n",
       "      <td>13</td>\n",
       "      <td>15</td>\n",
       "      <td>6</td>\n",
       "      <td>7</td>\n",
       "      <td>2</td>\n",
       "      <td>1</td>\n",
       "    </tr>\n",
       "  </tbody>\n",
       "</table>\n",
       "</div>"
      ],
      "text/plain": [
       "   City  Location_Score  Internal_Audit_Score  External_Audit_Score  \\\n",
       "0     2           8.032                    14                     8   \n",
       "1    31          77.730                     8                     3   \n",
       "2    40          59.203                     3                    12   \n",
       "3    12          73.080                     4                     5   \n",
       "4     4          15.666                    13                    15   \n",
       "\n",
       "   Fin_Score  Loss_score  Past_Results  IsUnderRisk  \n",
       "0          3           6             0            1  \n",
       "1          3           8             1            0  \n",
       "2         11           3             0            1  \n",
       "3          7           6             0            0  \n",
       "4          6           7             2            1  "
      ]
     },
     "execution_count": 15,
     "metadata": {},
     "output_type": "execute_result"
    }
   ],
   "source": [
    "train = pd.read_csv(\"Train.csv\")\n",
    "test= pd.read_csv(\"Test.csv\")\n",
    "train.head()"
   ]
  },
  {
   "cell_type": "code",
   "execution_count": 16,
   "metadata": {},
   "outputs": [],
   "source": [
    "train_data=train.drop(columns=['IsUnderRisk'])\n",
    "train_label=train['IsUnderRisk']"
   ]
  },
  {
   "cell_type": "code",
   "execution_count": 17,
   "metadata": {},
   "outputs": [
    {
     "data": {
      "text/html": [
       "<div>\n",
       "<style scoped>\n",
       "    .dataframe tbody tr th:only-of-type {\n",
       "        vertical-align: middle;\n",
       "    }\n",
       "\n",
       "    .dataframe tbody tr th {\n",
       "        vertical-align: top;\n",
       "    }\n",
       "\n",
       "    .dataframe thead th {\n",
       "        text-align: right;\n",
       "    }\n",
       "</style>\n",
       "<table border=\"1\" class=\"dataframe\">\n",
       "  <thead>\n",
       "    <tr style=\"text-align: right;\">\n",
       "      <th></th>\n",
       "      <th>City</th>\n",
       "      <th>Location_Score</th>\n",
       "      <th>Internal_Audit_Score</th>\n",
       "      <th>External_Audit_Score</th>\n",
       "      <th>Fin_Score</th>\n",
       "      <th>Loss_score</th>\n",
       "      <th>Past_Results</th>\n",
       "    </tr>\n",
       "  </thead>\n",
       "  <tbody>\n",
       "    <tr>\n",
       "      <th>0</th>\n",
       "      <td>41</td>\n",
       "      <td>18.272</td>\n",
       "      <td>13</td>\n",
       "      <td>12</td>\n",
       "      <td>9</td>\n",
       "      <td>7</td>\n",
       "      <td>0</td>\n",
       "    </tr>\n",
       "    <tr>\n",
       "      <th>1</th>\n",
       "      <td>17</td>\n",
       "      <td>64.799</td>\n",
       "      <td>6</td>\n",
       "      <td>10</td>\n",
       "      <td>7</td>\n",
       "      <td>4</td>\n",
       "      <td>1</td>\n",
       "    </tr>\n",
       "    <tr>\n",
       "      <th>2</th>\n",
       "      <td>31</td>\n",
       "      <td>68.890</td>\n",
       "      <td>3</td>\n",
       "      <td>3</td>\n",
       "      <td>7</td>\n",
       "      <td>8</td>\n",
       "      <td>0</td>\n",
       "    </tr>\n",
       "    <tr>\n",
       "      <th>3</th>\n",
       "      <td>3</td>\n",
       "      <td>16.492</td>\n",
       "      <td>15</td>\n",
       "      <td>10</td>\n",
       "      <td>7</td>\n",
       "      <td>4</td>\n",
       "      <td>1</td>\n",
       "    </tr>\n",
       "    <tr>\n",
       "      <th>4</th>\n",
       "      <td>9</td>\n",
       "      <td>17.178</td>\n",
       "      <td>7</td>\n",
       "      <td>3</td>\n",
       "      <td>8</td>\n",
       "      <td>3</td>\n",
       "      <td>1</td>\n",
       "    </tr>\n",
       "  </tbody>\n",
       "</table>\n",
       "</div>"
      ],
      "text/plain": [
       "   City  Location_Score  Internal_Audit_Score  External_Audit_Score  \\\n",
       "0    41          18.272                    13                    12   \n",
       "1    17          64.799                     6                    10   \n",
       "2    31          68.890                     3                     3   \n",
       "3     3          16.492                    15                    10   \n",
       "4     9          17.178                     7                     3   \n",
       "\n",
       "   Fin_Score  Loss_score  Past_Results  \n",
       "0          9           7             0  \n",
       "1          7           4             1  \n",
       "2          7           8             0  \n",
       "3          7           4             1  \n",
       "4          8           3             1  "
      ]
     },
     "execution_count": 17,
     "metadata": {},
     "output_type": "execute_result"
    }
   ],
   "source": [
    "test_data=test\n",
    "test_data.head()"
   ]
  },
  {
   "cell_type": "code",
   "execution_count": 18,
   "metadata": {},
   "outputs": [
    {
     "data": {
      "text/plain": [
       "1    340\n",
       "0    203\n",
       "Name: IsUnderRisk, dtype: int64"
      ]
     },
     "execution_count": 18,
     "metadata": {},
     "output_type": "execute_result"
    }
   ],
   "source": [
    "\n",
    "train.IsUnderRisk.value_counts()"
   ]
  },
  {
   "cell_type": "code",
   "execution_count": 19,
   "metadata": {},
   "outputs": [
    {
     "data": {
      "text/plain": [
       "1    0.626151\n",
       "0    0.373849\n",
       "Name: IsUnderRisk, dtype: float64"
      ]
     },
     "execution_count": 19,
     "metadata": {},
     "output_type": "execute_result"
    }
   ],
   "source": [
    "train_label.value_counts() / train_label.shape[0]"
   ]
  },
  {
   "cell_type": "code",
   "execution_count": 20,
   "metadata": {},
   "outputs": [
    {
     "data": {
      "text/html": [
       "<div>\n",
       "<style scoped>\n",
       "    .dataframe tbody tr th:only-of-type {\n",
       "        vertical-align: middle;\n",
       "    }\n",
       "\n",
       "    .dataframe tbody tr th {\n",
       "        vertical-align: top;\n",
       "    }\n",
       "\n",
       "    .dataframe thead th {\n",
       "        text-align: right;\n",
       "    }\n",
       "</style>\n",
       "<table border=\"1\" class=\"dataframe\">\n",
       "  <thead>\n",
       "    <tr style=\"text-align: right;\">\n",
       "      <th></th>\n",
       "      <th>City</th>\n",
       "      <th>Location_Score</th>\n",
       "      <th>Internal_Audit_Score</th>\n",
       "      <th>External_Audit_Score</th>\n",
       "      <th>Fin_Score</th>\n",
       "      <th>Loss_score</th>\n",
       "      <th>Past_Results</th>\n",
       "    </tr>\n",
       "  </thead>\n",
       "  <tbody>\n",
       "    <tr>\n",
       "      <th>count</th>\n",
       "      <td>543.000000</td>\n",
       "      <td>543.000000</td>\n",
       "      <td>543.000000</td>\n",
       "      <td>543.000000</td>\n",
       "      <td>543.000000</td>\n",
       "      <td>543.000000</td>\n",
       "      <td>543.000000</td>\n",
       "    </tr>\n",
       "    <tr>\n",
       "      <th>mean</th>\n",
       "      <td>19.576427</td>\n",
       "      <td>32.259346</td>\n",
       "      <td>8.189687</td>\n",
       "      <td>7.327808</td>\n",
       "      <td>7.046041</td>\n",
       "      <td>5.530387</td>\n",
       "      <td>0.613260</td>\n",
       "    </tr>\n",
       "    <tr>\n",
       "      <th>std</th>\n",
       "      <td>14.722687</td>\n",
       "      <td>24.887291</td>\n",
       "      <td>3.312022</td>\n",
       "      <td>3.450667</td>\n",
       "      <td>3.156978</td>\n",
       "      <td>1.839124</td>\n",
       "      <td>0.764509</td>\n",
       "    </tr>\n",
       "    <tr>\n",
       "      <th>min</th>\n",
       "      <td>0.000000</td>\n",
       "      <td>5.185000</td>\n",
       "      <td>3.000000</td>\n",
       "      <td>3.000000</td>\n",
       "      <td>3.000000</td>\n",
       "      <td>3.000000</td>\n",
       "      <td>0.000000</td>\n",
       "    </tr>\n",
       "    <tr>\n",
       "      <th>25%</th>\n",
       "      <td>6.000000</td>\n",
       "      <td>13.565000</td>\n",
       "      <td>6.000000</td>\n",
       "      <td>5.000000</td>\n",
       "      <td>5.000000</td>\n",
       "      <td>4.000000</td>\n",
       "      <td>0.000000</td>\n",
       "    </tr>\n",
       "    <tr>\n",
       "      <th>50%</th>\n",
       "      <td>14.000000</td>\n",
       "      <td>19.803000</td>\n",
       "      <td>8.000000</td>\n",
       "      <td>7.000000</td>\n",
       "      <td>7.000000</td>\n",
       "      <td>6.000000</td>\n",
       "      <td>1.000000</td>\n",
       "    </tr>\n",
       "    <tr>\n",
       "      <th>75%</th>\n",
       "      <td>37.000000</td>\n",
       "      <td>62.594000</td>\n",
       "      <td>11.000000</td>\n",
       "      <td>10.000000</td>\n",
       "      <td>8.000000</td>\n",
       "      <td>7.000000</td>\n",
       "      <td>1.000000</td>\n",
       "    </tr>\n",
       "    <tr>\n",
       "      <th>max</th>\n",
       "      <td>44.000000</td>\n",
       "      <td>80.809000</td>\n",
       "      <td>15.000000</td>\n",
       "      <td>15.000000</td>\n",
       "      <td>15.000000</td>\n",
       "      <td>13.000000</td>\n",
       "      <td>10.000000</td>\n",
       "    </tr>\n",
       "  </tbody>\n",
       "</table>\n",
       "</div>"
      ],
      "text/plain": [
       "             City  Location_Score  Internal_Audit_Score  External_Audit_Score  \\\n",
       "count  543.000000      543.000000            543.000000            543.000000   \n",
       "mean    19.576427       32.259346              8.189687              7.327808   \n",
       "std     14.722687       24.887291              3.312022              3.450667   \n",
       "min      0.000000        5.185000              3.000000              3.000000   \n",
       "25%      6.000000       13.565000              6.000000              5.000000   \n",
       "50%     14.000000       19.803000              8.000000              7.000000   \n",
       "75%     37.000000       62.594000             11.000000             10.000000   \n",
       "max     44.000000       80.809000             15.000000             15.000000   \n",
       "\n",
       "        Fin_Score  Loss_score  Past_Results  \n",
       "count  543.000000  543.000000    543.000000  \n",
       "mean     7.046041    5.530387      0.613260  \n",
       "std      3.156978    1.839124      0.764509  \n",
       "min      3.000000    3.000000      0.000000  \n",
       "25%      5.000000    4.000000      0.000000  \n",
       "50%      7.000000    6.000000      1.000000  \n",
       "75%      8.000000    7.000000      1.000000  \n",
       "max     15.000000   13.000000     10.000000  "
      ]
     },
     "execution_count": 20,
     "metadata": {},
     "output_type": "execute_result"
    }
   ],
   "source": [
    "train_data.describe()"
   ]
  },
  {
   "cell_type": "code",
   "execution_count": 21,
   "metadata": {},
   "outputs": [
    {
     "data": {
      "text/plain": [
       "City                     43\n",
       "Location_Score          540\n",
       "Internal_Audit_Score     13\n",
       "External_Audit_Score     13\n",
       "Fin_Score                13\n",
       "Loss_score               10\n",
       "Past_Results              7\n",
       "IsUnderRisk               2\n",
       "dtype: int64"
      ]
     },
     "execution_count": 21,
     "metadata": {},
     "output_type": "execute_result"
    }
   ],
   "source": [
    "\n",
    "train.nunique()"
   ]
  },
  {
   "cell_type": "code",
   "execution_count": 22,
   "metadata": {},
   "outputs": [
    {
     "data": {
      "text/plain": [
       "City                     34\n",
       "Location_Score          233\n",
       "Internal_Audit_Score     13\n",
       "External_Audit_Score     13\n",
       "Fin_Score                13\n",
       "Loss_score                7\n",
       "Past_Results              5\n",
       "dtype: int64"
      ]
     },
     "execution_count": 22,
     "metadata": {},
     "output_type": "execute_result"
    }
   ],
   "source": [
    "test.nunique()"
   ]
  },
  {
   "cell_type": "code",
   "execution_count": 23,
   "metadata": {},
   "outputs": [
    {
     "name": "stdout",
     "output_type": "stream",
     "text": [
      "0\n",
      "0\n"
     ]
    }
   ],
   "source": [
    "print(train.isnull().sum().sum())\n",
    "print(test.isnull().sum().sum())"
   ]
  },
  {
   "cell_type": "code",
   "execution_count": 24,
   "metadata": {},
   "outputs": [],
   "source": [
    "#scaler = MinMaxScaler()\n",
    "#scaler.fit(train_data)\n",
    "\n",
    "#train_data=(scaler.transform(train_data))"
   ]
  },
  {
   "cell_type": "code",
   "execution_count": 25,
   "metadata": {},
   "outputs": [],
   "source": [
    "#scaler = MinMaxScaler()\n",
    "#scaler.fit(test_data)\n",
    "\n",
    "#test_data=(scaler.transform(test_data))      "
   ]
  },
  {
   "cell_type": "code",
   "execution_count": 26,
   "metadata": {},
   "outputs": [
    {
     "name": "stdout",
     "output_type": "stream",
     "text": [
      "0:\tlearn: 0.6792702\ttest: 0.6784390\tbest: 0.6784390 (0)\ttotal: 198ms\tremaining: 15.7s\n",
      "1:\tlearn: 0.6669656\ttest: 0.6646695\tbest: 0.6646695 (1)\ttotal: 207ms\tremaining: 8.09s\n",
      "2:\tlearn: 0.6523801\ttest: 0.6483951\tbest: 0.6483951 (2)\ttotal: 217ms\tremaining: 5.56s\n",
      "3:\tlearn: 0.6379281\ttest: 0.6325044\tbest: 0.6325044 (3)\ttotal: 221ms\tremaining: 4.19s\n",
      "4:\tlearn: 0.6256483\ttest: 0.6184724\tbest: 0.6184724 (4)\ttotal: 224ms\tremaining: 3.36s\n",
      "5:\tlearn: 0.6120988\ttest: 0.6033359\tbest: 0.6033359 (5)\ttotal: 227ms\tremaining: 2.8s\n",
      "6:\tlearn: 0.6026790\ttest: 0.5931575\tbest: 0.5931575 (6)\ttotal: 236ms\tremaining: 2.46s\n",
      "7:\tlearn: 0.5909280\ttest: 0.5810595\tbest: 0.5810595 (7)\ttotal: 239ms\tremaining: 2.15s\n",
      "8:\tlearn: 0.5807613\ttest: 0.5690908\tbest: 0.5690908 (8)\ttotal: 244ms\tremaining: 1.93s\n",
      "9:\tlearn: 0.5734224\ttest: 0.5599268\tbest: 0.5599268 (9)\ttotal: 252ms\tremaining: 1.76s\n",
      "10:\tlearn: 0.5636021\ttest: 0.5493469\tbest: 0.5493469 (10)\ttotal: 255ms\tremaining: 1.6s\n",
      "11:\tlearn: 0.5559996\ttest: 0.5420567\tbest: 0.5420567 (11)\ttotal: 261ms\tremaining: 1.48s\n",
      "12:\tlearn: 0.5484979\ttest: 0.5330971\tbest: 0.5330971 (12)\ttotal: 265ms\tremaining: 1.37s\n",
      "13:\tlearn: 0.5425897\ttest: 0.5270029\tbest: 0.5270029 (13)\ttotal: 271ms\tremaining: 1.28s\n",
      "14:\tlearn: 0.5348746\ttest: 0.5185745\tbest: 0.5185745 (14)\ttotal: 275ms\tremaining: 1.19s\n",
      "15:\tlearn: 0.5269473\ttest: 0.5115474\tbest: 0.5115474 (15)\ttotal: 277ms\tremaining: 1.11s\n",
      "16:\tlearn: 0.5217276\ttest: 0.5069397\tbest: 0.5069397 (16)\ttotal: 283ms\tremaining: 1.05s\n",
      "17:\tlearn: 0.5163084\ttest: 0.5021231\tbest: 0.5021231 (17)\ttotal: 289ms\tremaining: 996ms\n",
      "18:\tlearn: 0.5112748\ttest: 0.4959615\tbest: 0.4959615 (18)\ttotal: 296ms\tremaining: 951ms\n",
      "19:\tlearn: 0.5075042\ttest: 0.4925584\tbest: 0.4925584 (19)\ttotal: 302ms\tremaining: 907ms\n",
      "20:\tlearn: 0.5038237\ttest: 0.4888131\tbest: 0.4888131 (20)\ttotal: 312ms\tremaining: 878ms\n",
      "21:\tlearn: 0.4979030\ttest: 0.4809675\tbest: 0.4809675 (21)\ttotal: 316ms\tremaining: 832ms\n",
      "22:\tlearn: 0.4945630\ttest: 0.4773950\tbest: 0.4773950 (22)\ttotal: 321ms\tremaining: 795ms\n",
      "23:\tlearn: 0.4890406\ttest: 0.4709852\tbest: 0.4709852 (23)\ttotal: 325ms\tremaining: 758ms\n",
      "24:\tlearn: 0.4840513\ttest: 0.4668958\tbest: 0.4668958 (24)\ttotal: 327ms\tremaining: 720ms\n",
      "25:\tlearn: 0.4807186\ttest: 0.4625599\tbest: 0.4625599 (25)\ttotal: 332ms\tremaining: 689ms\n",
      "26:\tlearn: 0.4769856\ttest: 0.4578248\tbest: 0.4578248 (26)\ttotal: 338ms\tremaining: 663ms\n",
      "27:\tlearn: 0.4722893\ttest: 0.4525991\tbest: 0.4525991 (27)\ttotal: 353ms\tremaining: 655ms\n",
      "28:\tlearn: 0.4681932\ttest: 0.4479608\tbest: 0.4479608 (28)\ttotal: 370ms\tremaining: 651ms\n",
      "29:\tlearn: 0.4648390\ttest: 0.4439435\tbest: 0.4439435 (29)\ttotal: 386ms\tremaining: 644ms\n",
      "30:\tlearn: 0.4614145\ttest: 0.4400593\tbest: 0.4400593 (30)\ttotal: 394ms\tremaining: 622ms\n",
      "31:\tlearn: 0.4581338\ttest: 0.4362355\tbest: 0.4362355 (31)\ttotal: 400ms\tremaining: 601ms\n",
      "32:\tlearn: 0.4543903\ttest: 0.4320764\tbest: 0.4320764 (32)\ttotal: 404ms\tremaining: 576ms\n",
      "33:\tlearn: 0.4507406\ttest: 0.4281389\tbest: 0.4281389 (33)\ttotal: 408ms\tremaining: 552ms\n",
      "34:\tlearn: 0.4477656\ttest: 0.4242356\tbest: 0.4242356 (34)\ttotal: 412ms\tremaining: 530ms\n",
      "35:\tlearn: 0.4455066\ttest: 0.4224691\tbest: 0.4224691 (35)\ttotal: 419ms\tremaining: 512ms\n",
      "36:\tlearn: 0.4421352\ttest: 0.4186226\tbest: 0.4186226 (36)\ttotal: 426ms\tremaining: 495ms\n",
      "37:\tlearn: 0.4383742\ttest: 0.4142933\tbest: 0.4142933 (37)\ttotal: 428ms\tremaining: 473ms\n",
      "38:\tlearn: 0.4363880\ttest: 0.4120673\tbest: 0.4120673 (38)\ttotal: 435ms\tremaining: 457ms\n",
      "39:\tlearn: 0.4337198\ttest: 0.4088799\tbest: 0.4088799 (39)\ttotal: 440ms\tremaining: 440ms\n",
      "40:\tlearn: 0.4317342\ttest: 0.4077960\tbest: 0.4077960 (40)\ttotal: 446ms\tremaining: 425ms\n",
      "41:\tlearn: 0.4295089\ttest: 0.4048037\tbest: 0.4048037 (41)\ttotal: 453ms\tremaining: 410ms\n",
      "42:\tlearn: 0.4274206\ttest: 0.4025900\tbest: 0.4025900 (42)\ttotal: 459ms\tremaining: 395ms\n",
      "43:\tlearn: 0.4247002\ttest: 0.3994723\tbest: 0.3994723 (43)\ttotal: 463ms\tremaining: 378ms\n",
      "44:\tlearn: 0.4219515\ttest: 0.3965390\tbest: 0.3965390 (44)\ttotal: 466ms\tremaining: 362ms\n",
      "45:\tlearn: 0.4201367\ttest: 0.3939681\tbest: 0.3939681 (45)\ttotal: 471ms\tremaining: 348ms\n",
      "46:\tlearn: 0.4186427\ttest: 0.3920704\tbest: 0.3920704 (46)\ttotal: 477ms\tremaining: 335ms\n",
      "47:\tlearn: 0.4164390\ttest: 0.3894334\tbest: 0.3894334 (47)\ttotal: 488ms\tremaining: 326ms\n",
      "48:\tlearn: 0.4144861\ttest: 0.3872251\tbest: 0.3872251 (48)\ttotal: 496ms\tremaining: 314ms\n",
      "49:\tlearn: 0.4130474\ttest: 0.3857763\tbest: 0.3857763 (49)\ttotal: 501ms\tremaining: 301ms\n",
      "50:\tlearn: 0.4110411\ttest: 0.3827866\tbest: 0.3827866 (50)\ttotal: 509ms\tremaining: 289ms\n",
      "51:\tlearn: 0.4093984\ttest: 0.3811382\tbest: 0.3811382 (51)\ttotal: 515ms\tremaining: 277ms\n",
      "52:\tlearn: 0.4073535\ttest: 0.3780561\tbest: 0.3780561 (52)\ttotal: 518ms\tremaining: 264ms\n",
      "53:\tlearn: 0.4056633\ttest: 0.3765546\tbest: 0.3765546 (53)\ttotal: 522ms\tremaining: 251ms\n",
      "54:\tlearn: 0.4041976\ttest: 0.3747487\tbest: 0.3747487 (54)\ttotal: 526ms\tremaining: 239ms\n",
      "55:\tlearn: 0.4026463\ttest: 0.3730250\tbest: 0.3730250 (55)\ttotal: 542ms\tremaining: 232ms\n",
      "56:\tlearn: 0.4013571\ttest: 0.3713052\tbest: 0.3713052 (56)\ttotal: 549ms\tremaining: 222ms\n",
      "57:\tlearn: 0.4000679\ttest: 0.3697178\tbest: 0.3697178 (57)\ttotal: 556ms\tremaining: 211ms\n",
      "58:\tlearn: 0.3982839\ttest: 0.3674903\tbest: 0.3674903 (58)\ttotal: 560ms\tremaining: 199ms\n",
      "59:\tlearn: 0.3966389\ttest: 0.3660614\tbest: 0.3660614 (59)\ttotal: 567ms\tremaining: 189ms\n",
      "60:\tlearn: 0.3955004\ttest: 0.3644169\tbest: 0.3644169 (60)\ttotal: 571ms\tremaining: 178ms\n",
      "61:\tlearn: 0.3939215\ttest: 0.3626320\tbest: 0.3626320 (61)\ttotal: 577ms\tremaining: 167ms\n",
      "62:\tlearn: 0.3923202\ttest: 0.3607231\tbest: 0.3607231 (62)\ttotal: 580ms\tremaining: 157ms\n",
      "63:\tlearn: 0.3910520\ttest: 0.3592585\tbest: 0.3592585 (63)\ttotal: 586ms\tremaining: 147ms\n",
      "64:\tlearn: 0.3896208\ttest: 0.3575045\tbest: 0.3575045 (64)\ttotal: 592ms\tremaining: 137ms\n",
      "65:\tlearn: 0.3884578\ttest: 0.3567994\tbest: 0.3567994 (65)\ttotal: 598ms\tremaining: 127ms\n",
      "66:\tlearn: 0.3874293\ttest: 0.3554176\tbest: 0.3554176 (66)\ttotal: 604ms\tremaining: 117ms\n",
      "67:\tlearn: 0.3864991\ttest: 0.3541756\tbest: 0.3541756 (67)\ttotal: 611ms\tremaining: 108ms\n",
      "68:\tlearn: 0.3854338\ttest: 0.3532839\tbest: 0.3532839 (68)\ttotal: 617ms\tremaining: 98.3ms\n",
      "69:\tlearn: 0.3837675\ttest: 0.3515338\tbest: 0.3515338 (69)\ttotal: 620ms\tremaining: 88.6ms\n",
      "70:\tlearn: 0.3823673\ttest: 0.3497847\tbest: 0.3497847 (70)\ttotal: 622ms\tremaining: 78.8ms\n",
      "71:\tlearn: 0.3810281\ttest: 0.3485669\tbest: 0.3485669 (71)\ttotal: 626ms\tremaining: 69.6ms\n",
      "72:\tlearn: 0.3799567\ttest: 0.3472284\tbest: 0.3472284 (72)\ttotal: 632ms\tremaining: 60.6ms\n",
      "73:\tlearn: 0.3791823\ttest: 0.3465751\tbest: 0.3465751 (73)\ttotal: 638ms\tremaining: 51.7ms\n",
      "74:\tlearn: 0.3780617\ttest: 0.3455125\tbest: 0.3455125 (74)\ttotal: 645ms\tremaining: 43ms\n",
      "75:\tlearn: 0.3767161\ttest: 0.3436491\tbest: 0.3436491 (75)\ttotal: 653ms\tremaining: 34.4ms\n",
      "76:\tlearn: 0.3759230\ttest: 0.3430568\tbest: 0.3430568 (76)\ttotal: 660ms\tremaining: 25.7ms\n",
      "77:\tlearn: 0.3749293\ttest: 0.3413656\tbest: 0.3413656 (77)\ttotal: 667ms\tremaining: 17.1ms\n",
      "78:\tlearn: 0.3735466\ttest: 0.3398695\tbest: 0.3398695 (78)\ttotal: 672ms\tremaining: 8.51ms\n",
      "79:\tlearn: 0.3726155\ttest: 0.3388484\tbest: 0.3388484 (79)\ttotal: 679ms\tremaining: 0us\n",
      "\n",
      "bestTest = 0.3388484155\n",
      "bestIteration = 79\n",
      "\n"
     ]
    },
    {
     "data": {
      "text/plain": [
       "<catboost.core.CatBoostClassifier at 0x221f002ef60>"
      ]
     },
     "execution_count": 26,
     "metadata": {},
     "output_type": "execute_result"
    }
   ],
   "source": [
    "#catboost\n",
    "features1 = ['City','Location_Score','Internal_Audit_Score','External_Audit_Score','Fin_Score','Loss_score','Past_Results']\n",
    "    \n",
    "cat_ind=['City','Internal_Audit_Score','External_Audit_Score','Fin_Score','Loss_score','Past_Results']\n",
    "    \n",
    "x_train, x_val, y_train, y_val = train_test_split(train_data[features1], train_label, test_size=0.1, random_state=42)\n",
    "cat_rg1 = cb.CatBoostClassifier(iterations=80, learning_rate=0.06, depth=8, l2_leaf_reg=12)\n",
    "\n",
    "\n",
    "cat_rg1.fit(x_train, y_train ,  cat_features=cat_ind,  eval_set=(x_val, y_val), verbose=True)"
   ]
  },
  {
   "cell_type": "code",
   "execution_count": 27,
   "metadata": {},
   "outputs": [
    {
     "name": "stdout",
     "output_type": "stream",
     "text": [
      "(233, 2)\n"
     ]
    }
   ],
   "source": [
    "pred1_prob = cat_rg1.predict_proba(test_data[features1],verbose=True)\n",
    "print(pred1_prob.shape)"
   ]
  },
  {
   "cell_type": "code",
   "execution_count": 28,
   "metadata": {},
   "outputs": [],
   "source": [
    "df2 = pd.DataFrame(pred1_prob,columns=['0','1'])\n",
    "sub_df = df2\n",
    "sub_df.to_excel('submission.xlsx', engine='xlsxwriter',index=False)  "
   ]
  }
 ],
 "metadata": {
  "kernelspec": {
   "display_name": "Python 3",
   "language": "python",
   "name": "python3"
  },
  "language_info": {
   "codemirror_mode": {
    "name": "ipython",
    "version": 3
   },
   "file_extension": ".py",
   "mimetype": "text/x-python",
   "name": "python",
   "nbconvert_exporter": "python",
   "pygments_lexer": "ipython3",
   "version": "3.6.7"
  }
 },
 "nbformat": 4,
 "nbformat_minor": 2
}
